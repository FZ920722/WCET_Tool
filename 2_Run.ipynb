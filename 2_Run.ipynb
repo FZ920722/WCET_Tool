{
 "cells": [
  {
   "cell_type": "code",
   "execution_count": 2,
   "id": "ef96728a",
   "metadata": {},
   "outputs": [],
   "source": [
    "#!/usr/bin/env python3\n",
    "\n",
    "import os\n",
    "import json\n",
    "import shutil\n",
    "import subprocess\n",
    "\n",
    "from pathlib import Path\n",
    "from argparse import ArgumentParser\n"
   ]
  },
  {
   "cell_type": "code",
   "execution_count": null,
   "id": "d9d026fe",
   "metadata": {},
   "outputs": [],
   "source": [
    "# parser = ArgumentParser('Run llvmta')\n",
    "\n",
    "# parser.add_argument('-W',   '--work',   type=str,   required=True,  help='WORK_DIR')     # /workspaces/llvmta/workspace/test\n",
    "# parser.add_argument('-C',   '--code',   type=str,   required=True,  help='CODE_DIRS')    # /workspaces/llvmta/workspace/test/code\n",
    "# parser.add_argument('-H',   '--head',   type=str,   required=False, help='HEAD_DIRS')    # /workspaces/llvmta/workspace/test/head\n",
    "# parser.add_argument('-M',   '--main',   type=str,   default='main', help='ENTRYPOINT')\n",
    "\n",
    "# args = parser.parse_args()"
   ]
  },
  {
   "cell_type": "markdown",
   "id": "9c0cbd32",
   "metadata": {},
   "source": [
    "# 0. Set Environment Variables"
   ]
  },
  {
   "cell_type": "code",
   "execution_count": null,
   "id": "05c39329",
   "metadata": {},
   "outputs": [
    {
     "name": "stdout",
     "output_type": "stream",
     "text": [
      "app\tlift\n",
      "CODE_DIRS:\n",
      "\t/home/fyj/Desktop/data/1_WCETSpace/tacle-bench/bench/app/lift\n",
      "HEAD_DIRS:\n",
      "\t/home/fyj/Desktop/data/1_WCETSpace/tacle-bench/bench/app/lift\n",
      "WORK_DIR:\n",
      "\t/home/fyj/Desktop/data/WCET_Tool/WorkSpace\n",
      "COMP_DIR:\n",
      "\t/home/fyj/Desktop/data/WCET_Tool/WorkSpace/Compile\n",
      "ANAL_DIR:\n",
      "\t/home/fyj/Desktop/data/WCET_Tool/WorkSpace/Analysis\n",
      "ENTRYPOINT:\n",
      "\tmain\n"
     ]
    }
   ],
   "source": [
    "# os.getcwd()\n",
    "# os.path.isdir()\n",
    "# os.path.abspath()\n",
    "# os.chdir(ANAL_DIR)\n",
    "# out_dir.mkdir(parents=True)\n",
    "# os.path.dirname(CODE_DIRS[0])\n",
    "# os.chdir( os.path.dirname(CODE_DIRS[0]) )\n",
    "\n",
    "PROJECTTYPE='app'\n",
    "PROJECTNAME='lift'\n",
    "\n",
    "print(f\"{PROJECTTYPE}\\t{PROJECTNAME}\")\n",
    "TACLE_BENCH_DIR='/home/fyj/Desktop/data/1_WCETSpace/tacle-bench'\n",
    "\n",
    "FILE_DIR=os.path.join(TACLE_BENCH_DIR, 'bench.json')\n",
    "SOUR_DIR=os.path.join(TACLE_BENCH_DIR, 'bench', PROJECTTYPE, PROJECTNAME)\n",
    "\n",
    "def __path_code_ana(_s, _d):\n",
    "    if _d:\n",
    "        return ' '.join(os.path.join(_s, __dx) for __dx in _d) \n",
    "    else: \n",
    "        return _s\n",
    "\n",
    "def __path_head_ana(_h, _d):\n",
    "    if _d:\n",
    "        return ' '.join(os.path.join(_h, __dx) for __dx in _d) \n",
    "    else: \n",
    "        return _h\n",
    "\n",
    "with open(FILE_DIR, 'r') as _f:\n",
    "    _d = json.load(_f)\n",
    "    # 1. code addr\n",
    "    CODE_DIRS = __path_code_ana(SOUR_DIR, _d[PROJECTTYPE][PROJECTNAME]['c'].split())\n",
    "\n",
    "    # 2. head addr\n",
    "    HEAD_DIRS=__path_head_ana(SOUR_DIR, _d[PROJECTTYPE][PROJECTNAME]['h'].split())\n",
    "\n",
    "    # 3. work path\n",
    "    WORK_DIR=\"/home/fyj/Desktop/data/WCET_Tool/WorkSpace\"\n",
    "    if os.path.exists(WORK_DIR):\n",
    "        shutil.rmtree(WORK_DIR)\n",
    "    os.mkdir(WORK_DIR)\n",
    "\n",
    "    ## 3.1 comp path\n",
    "    COMP_DIR=os.path.join(WORK_DIR, \"Compile\")\n",
    "    if os.path.exists(COMP_DIR):\n",
    "        shutil.rmtree(COMP_DIR)\n",
    "    os.mkdir(COMP_DIR)\n",
    "\n",
    "    ## 3.2 anal path\n",
    "    ANAL_DIR=os.path.join(WORK_DIR, \"Analysis\")\n",
    "    if os.path.exists(ANAL_DIR):\n",
    "        shutil.rmtree(ANAL_DIR)\n",
    "    os.mkdir(ANAL_DIR)\n",
    "\n",
    "    # 4. entry point\n",
    "    ENTRYPOINT=\"main\"\n",
    "\n",
    "    _cstr = '\\n\\t'.join(CODE_DIRS.split())\n",
    "    print(f\"CODE_DIRS:\\n\\t{_cstr}\")\n",
    "\n",
    "    _hstr = '\\n\\t'.join(HEAD_DIRS.split())\n",
    "    print(f\"HEAD_DIRS:\\n\\t{_hstr}\")\n",
    "\n",
    "    print(f\"WORK_DIR:\\n\\t{WORK_DIR}\")\n",
    "    print(f\"COMP_DIR:\\n\\t{COMP_DIR}\")\n",
    "    print(f\"ANAL_DIR:\\n\\t{ANAL_DIR}\")\n",
    "\n",
    "    print(f\"ENTRYPOINT:\\n\\t{ENTRYPOINT}\")"
   ]
  },
  {
   "cell_type": "markdown",
   "id": "e4296270",
   "metadata": {},
   "source": [
    "# S1. Basic Compile(生成IR)"
   ]
  },
  {
   "cell_type": "markdown",
   "id": "46391d2b",
   "metadata": {},
   "source": [
    "## 1. clang compile:\n",
    "- *.c -> *.ll"
   ]
  },
  {
   "cell_type": "code",
   "execution_count": 149,
   "id": "41068b33",
   "metadata": {},
   "outputs": [
    {
     "name": "stdout",
     "output_type": "stream",
     "text": [
      "clang -w -S -gline-tables-only -O0 -Xclang -disable-O0-optnone -fno-builtin -target arm -march=armv4t -mfloat-abi=hard -emit-llvm /home/fyj/Desktop/data/1_WCETSpace/tacle-bench/bench/app/lift/*.c\n"
     ]
    }
   ],
   "source": [
    "CLANG_INSTRUCT=[\n",
    "    # (1) instruct;\n",
    "    \"clang\",\n",
    "    \"-w\",                          # 禁止所有警告信息。\n",
    "    \"-S\",                          # clang生成汇编代码（.s 文件而不是可执行文件），结合-emit-llvm选项会生成LLVM IR文件（.ll 文件）。\n",
    "    \"-gline-tables-only\",         # 生成最小的调试信息：生成仅包含行号信息的调试信息（最小的调试信息），仅包含源代码行号映射，而不包含完整的调试信息。\n",
    "    \"-O0\",                         # 禁用优化（生成未优化的代码，便于调试）。\n",
    "    \"-Xclang -disable-O0-optnone\", # 用于在-O0级禁用所有优化（clang前端的选项）。\n",
    "    \"-fno-builtin\",                # 禁用内置函数优化。编译器不使用内置函数（如__builtin_memcpy等）优化，仅使用标准库函数。\n",
    "    \"-target arm\",                 # 指定目标架构(arm / aarch64-linux-gnu / -target=riscv64 )，告诉编译器生成针对ARM架构的代码。\n",
    "    \"-march=armv4t\",               # 指定目标架构版本为(-march=armv8/armv4t/rv64gc/armv7-a)。这会影响生成的代码的指令集和特性。\n",
    "    \"-mfloat-abi=hard\",            # 使用硬(软)浮点ABI，浮点运算将直接使用硬(软)件浮点指令，而不是软件浮点。\n",
    "    # -mcpu=cortex-a7 / arm7tdmi\n",
    "    # \"-D__AVR__ -D__AVR_ATmega128__\"\n",
    "    \"-emit-llvm\",                  # 生成LLVM中间表示(IR)文件。生成LLVM中间表示（IR）文件。这个选项告诉clang生成.ll 文件，而不是汇编/可执行文件。\n",
    "    # \"-fno-discard-value-names\",\n",
    "\n",
    "    # (2) code addr;\n",
    "    # {_cdir}/*.c编译源代目录下的所有.c文件\n",
    "    ' '.join(f\"{_cstr}/*.c\" for _cstr in CODE_DIRS.split()),\n",
    "\n",
    "    # (3) head addr;\n",
    "    # -I {_hdir} 编译源代目录下的所有.c文件 \n",
    "    # ' '.join(f\"-I {_cstr}\" for _hstr in HEAD_DIRS.split()),\n",
    "\n",
    "    # (4) no print;\n",
    "    # \"> /dev/null 2>&1\"\n",
    "]\n",
    "\n",
    "print(' '.join(CLANG_INSTRUCT))\n"
   ]
  },
  {
   "cell_type": "code",
   "execution_count": 150,
   "id": "1ee25853",
   "metadata": {},
   "outputs": [],
   "source": [
    "os.chdir(COMP_DIR)\n",
    "if os.system(' '.join(CLANG_INSTRUCT)) != 0:\n",
    "    exit(1)"
   ]
  },
  {
   "cell_type": "markdown",
   "id": "a360a61d",
   "metadata": {},
   "source": [
    "## 2. llvm link: \n",
    "llvm-link 把多个 .ll 合并 [llvm-link *.ll s → *unoptimized.ll]\n",
    "\n",
    "- 输ru项:\n",
    "    - $(ls ./*.ll)\n",
    "\n",
    "- 输出项:\n",
    "    - -o optimized.ll: 指定输出文件的名称为 optimized.ll。\n"
   ]
  },
  {
   "cell_type": "code",
   "execution_count": 151,
   "id": "47a4de35",
   "metadata": {},
   "outputs": [],
   "source": [
    "os.chdir(COMP_DIR)\n",
    "if os.system(\"llvm-link *.ll -o unoptimized.ll\") != 0:\n",
    "    exit(1)"
   ]
  },
  {
   "cell_type": "markdown",
   "id": "5c47c7a7",
   "metadata": {},
   "source": [
    "## 3. opt 优化:\n",
    "- → optimized.ll"
   ]
  },
  {
   "cell_type": "code",
   "execution_count": 152,
   "id": "4235bac3",
   "metadata": {},
   "outputs": [
    {
     "name": "stdout",
     "output_type": "stream",
     "text": [
      "opt -S unoptimized.ll -mem2reg -indvars -loop-simplify -instcombine -globaldce -dce -o optimized.ll > /dev/null 2>&1\n"
     ]
    }
   ],
   "source": [
    "OPT_INSTRUCT = [\n",
    "    \"opt\",              # opt是LLVM的优化工具，用于对LLVM中间表示（IR）文件进行各种优化。它可以加载和运行LLVM Passes（优化模块）。\n",
    "    # (1) 输入项;\n",
    "    \"-S unoptimized.ll\",   # 输入一个未优化的LLVM模块文件。unoptimized.ll为一个未优化的LLVM模块文件；\n",
    "\n",
    "    # (2) 优化选项\n",
    "    # \"-S\",               # opt输出优化后的结果为LLVM IR文件（.ll 文件），而不是默认的二进制.bc文件。\n",
    "    # \"-lowerswitch\",\n",
    "    \"-mem2reg\",         # 将内存访问转换为寄存器访问          这个Pass会将alloca指令（堆栈分配）转换为寄存器，从而提高代码的性能。\n",
    "    \"-indvars\",         # 优化循环中的归纳变量               这个Pass会简化循环中的变量计算，减少冗余操作。\n",
    "    \"-loop-simplify\",   # 简化循环结构(LoopSimplify Pass)： 这个Pass会将复杂的循环结构转换为更简单的形式，便于后续优化。# 其插入Preheader、单一Backedge、唯一Exit Block，消除异常控制流，使循环结构标准化，便于Loop Pass应用。分离循环头（Header）和入口块（Preheader），消除复杂的控制流分支，提升LLVMTA的可分析性。\n",
    "    \"-instcombine\",     # 合并冗余指令                      这个Pass会查找并合并重复或冗余的指令，减少指令数量。\n",
    "    \"-globaldce\",       # 全局死代码消除                    这个Pass会移除未使用的全局变量和函数。\n",
    "    \"-dce\",             # 死代码消除                       这个Pass会移除未使用的指令。\n",
    "    # \"-dot-cfg\",         # 生成控制流图（CFG）的 .dot 文件。每个函数的控制流图将保存为一个 .dot 文件，例如 .main.dot。和LLVMTA分析功能无关。去掉它不会影响分析结果。\n",
    "    # \"-licm\",\n",
    "    # \"-loop-rotate\",\n",
    "    # \"-loop-unroll\",\n",
    "    # \"-unroll-loops\",   # 启用循环展开（Loop Unrolling）优化，默认依据上面-unroll-count值控制展开。\n",
    "    # \"-unroll-count=2\", # 设置循环展开的次数（手动指定为 2 次），即循环体被复制两遍。\n",
    "    # \"-verify\",\n",
    "\n",
    "    # (3) 输出项\n",
    "    \"-o optimized.ll\",  # 指定输出文件的名称为 optimized.ll。\n",
    "\n",
    "    # (4) no print;\n",
    "    \"> /dev/null 2>&1\"\n",
    "]\n",
    "\n",
    "print(' '.join(OPT_INSTRUCT))"
   ]
  },
  {
   "cell_type": "code",
   "execution_count": 153,
   "id": "241a6a7a",
   "metadata": {},
   "outputs": [],
   "source": [
    "os.chdir(COMP_DIR)\n",
    "if os.system(' '.join(OPT_INSTRUCT)) != 0:\n",
    "    exit(1)"
   ]
  },
  {
   "cell_type": "markdown",
   "id": "1c00d68c",
   "metadata": {},
   "source": [
    "## 4. 输出CFG图:"
   ]
  },
  {
   "cell_type": "code",
   "execution_count": 154,
   "id": "0f40684c",
   "metadata": {},
   "outputs": [
    {
     "name": "stderr",
     "output_type": "stream",
     "text": [
      "Error: dot: can't open .main.dot\n"
     ]
    }
   ],
   "source": [
    "# dot -Tpng .\"$entrypoint\".dot -o \"$entrypoint\".png\n",
    "os.chdir(COMP_DIR)\n",
    "if os.system(f\"dot -Tpng .{ENTRYPOINT}.dot -o {ENTRYPOINT}.png\") != 0:\n",
    "    exit(1)"
   ]
  },
  {
   "cell_type": "markdown",
   "id": "0de7116e",
   "metadata": {},
   "source": [
    "## 5. Vertify"
   ]
  },
  {
   "cell_type": "code",
   "execution_count": 155,
   "id": "bbbd6032",
   "metadata": {},
   "outputs": [],
   "source": [
    "# llc optimized.ll -filetype=obj -o optimized.o\n",
    "os.chdir(COMP_DIR)\n",
    "if os.system(f\"llc optimized.ll -filetype=obj -o optimized.o\") != 0:\n",
    "    exit(1)"
   ]
  },
  {
   "cell_type": "markdown",
   "id": "a97c481d",
   "metadata": {},
   "source": [
    "# S2. Analysis(分析)"
   ]
  },
  {
   "cell_type": "markdown",
   "id": "42d6c3d4",
   "metadata": {},
   "source": [
    "## 0. Initial:"
   ]
  },
  {
   "cell_type": "code",
   "execution_count": 156,
   "id": "38c1395f",
   "metadata": {},
   "outputs": [
    {
     "data": {
      "text/plain": [
       "'/home/fyj/Desktop/data/WCET_Tool/WorkSpace/Analysis/optimized.ll'"
      ]
     },
     "execution_count": 156,
     "metadata": {},
     "output_type": "execute_result"
    }
   ],
   "source": [
    "# cp \"$COMP_DIR/optimized.ll\" \"$ANAL_DIR/optimized.ll\"\n",
    "# shutil.copy('WCET.json', out_dir)\n",
    "shutil.copy(os.path.join(COMP_DIR, \"optimized.ll\"), \n",
    "            os.path.join(ANAL_DIR, \"optimized.ll\"))"
   ]
  },
  {
   "cell_type": "markdown",
   "id": "568c8b71",
   "metadata": {},
   "source": [
    "## 1. parampter and instruct config"
   ]
  },
  {
   "cell_type": "code",
   "execution_count": null,
   "id": "1a3cad69",
   "metadata": {},
   "outputs": [
    {
     "name": "stdout",
     "output_type": "stream",
     "text": [
      "llvmta -disable-tail-calls -float-abi=hard -mattr=-neon,+vfp2 -O0 --ta-strict=false --ta-l2cache-persistence=elementwise --ta-num-callsite-tokens=1 --ta-mem-latency=100 --ta-memory-type=separatecaches --ta-muarch-type=outoforder --ta-dcache-assoc=8 --ta-dcache-nsets=128 --ta-dcache-linesize=64 --ta-icache-assoc=8 --ta-icache-nsets=128 --ta-icache-linesize=64 --ta-l2cache-assoc=8 --ta-l2cache-nsets=1024 --ta-l2cache-linesize=64 --core-info=/home/fyj/Desktop/data/WCET_Tool/CoreInfo.json --core-numbers=1 --shared-cache-persistence-analysis=false -debug-only= optimized.ll\n"
     ]
    }
   ],
   "source": [
    "MEM_Latency=100     # 150\n",
    "\n",
    "L1I_Assoc=8\n",
    "L1I_Nsets=128       # 64\n",
    "L1I_Linesize=64\n",
    "\n",
    "L1D_Assoc=8\n",
    "L1D_Nsets=128       # 64\n",
    "L1D_Linesize=64\n",
    "\n",
    "L2C_Assoc=8\n",
    "L2C_Nsets=1024      # 64\n",
    "L2C_Linesize=64\n",
    "\n",
    "LLVMTA_INSTRUCT = [\n",
    "    \"llvmta\",\n",
    "    # (1) basice\n",
    "    \"-disable-tail-calls\", \n",
    "    \"-float-abi=hard\", \n",
    "    \"-mattr=-neon,+vfp2\", \n",
    "    \"-O0\",\n",
    "    # \"-O0-disable-O0-optnone\",\n",
    "    # \"-mcpu=arm7tdmi \"\n",
    "\n",
    "    # 一、 LLVMTA General Options:\n",
    "    # \"--ta-ana-type=timing \"                    # 1.***()\n",
    "    #\"--ta-anainfo-policy=precompall \"         # 2.\n",
    "    # f\"--ta-analysis-entry-point={ENTRYPOINT}\", # 3.  Run WCET Analysis itself 针对每个入口函数:\n",
    "    #\"--ta-comp-type= \"                        # 4.  会报错放弃  #  icache,dcache,dramrefresh,sharedbusblocking\n",
    "    #\"--ta-compana-joint-ilp=true \"            # 5.  \"--ta-compana-joint-ilp \"\n",
    "    #\"--ta-enable-fixpoint-checks=true \" # 6.\n",
    "    #\"--ta-enable-muarchjoin=true \"      # 7.\n",
    "    #\"--ta-follow-localwc=<value> \"      # 8.  选择要专门跟踪的本地最坏情况\n",
    "    #\"--ta-metric-wcep=<value> \"         # 9.  在最坏情况时间路径上需要最大化的指标\n",
    "    #\"--ta-metric-max=<value> \"          # 10. 除时间外需要最大化的指标\n",
    "    #\"--ta-pathana-type=<value> \"        # 11. 选择路径分析类型，默认为'simpleilp'（简单ILP解决方案）\n",
    "    # \"--ta-pathana-type=graphilp\",\n",
    "    # \"--ta-quiet \"                        # 12. 静默模式(不报告进度，不转储详细分析信息) \n",
    "    #\"--ta-restart-after-external\"       # 13. 外部函数调用后重置微架构状态(默认false)\n",
    "    #\"--ta-start-address-code=<uint>\"    # 14. 二进制文件中代码段的起始地址\n",
    "    \"--ta-strict=false\",                 # 15. 启用严格模式(遇到未知情况时断言，默认true， true可能报错)；\n",
    "    #\"--ta-ucb-clever=true\"              # 16. 启用更精确处理空间局部性的 UCB 模式 (默认false)；\n",
    "    # 1. 求解器相关；\n",
    "    # \"--ta-lpsolver=gurobi\",              # 1.1 路径分析中的LP求解器选择\n",
    "    # \"--ta-lpsolver-effort=maximal\",      # 1.2 LP求解器求解精度\n",
    "    # 2. 输出文件：\n",
    "    # --ta-dumpb-vcg-graph                    # 2.1 以VCG格式转储状态图(默认为.dot格式)\n",
    "    # --ta-output-unknown-extfuncs            # 2.2 输出外部函数注解模板文件(默认false)\n",
    "    # --ta-output-unknown-loops               # 2.3 输出循环注解文件(默认false)\n",
    "    # 3. 输入文件：\n",
    "    # --ta-loop-bounds-file=<string>          # 3.1.包含循环界限的文件路径\n",
    "    # --ta-loop-lowerbounds-file=<string>     # 3.2.包含循环下界的文件路径\n",
    "    # --ta-extfunc-annotation-file=<string>   # 3.3.外部函数注解文件路径\n",
    "    # 4. Cache的持久性配置: elementwise; conditionalmust;\n",
    "    # \"--ta-icache-persistence=conditionalmust\",\n",
    "    # \"--ta-dcache-persistence=conditionalmust\",\n",
    "    # \"--ta-l2cache-persistence=conditionalmust\",\n",
    "    \"--ta-l2cache-persistence=elementwise\",\n",
    "    # 5. 抢占：\n",
    "    # --ta-preemption-dcache-budget=<uint>              # 5.1 抢占可能导致的数据缓存未命中额外数量(默认0)\n",
    "    # --ta-preemption-icache-budget=<uint>              # 5.2 抢占可能导致的指令缓存未命中额外数量(默认0)\n",
    "    # --ta-preemptive                                   # 5.3 被分析程序是否可被抢占(默认false)\n",
    "    # --ta-calculate-slope-interference-curve=<value>   # 5.4. 计算干扰响应曲线的线性近似斜率\n",
    "    # --ta-compositional-base-bound=<value>             # 5.5.启用组合基础界限计算\n",
    "    # --ta-dump-interference-response-curve=<value>     # 5.6.转储干扰响应曲线\n",
    "    # 6. 寄存器地址：\n",
    "    # --ta-initial-link-register=<uint>                 # 6.1 初始链接寄存器值(默认0x00000000)\n",
    "    # --ta-initial-stack-pointer=<uint>                 # 6.2 初始栈指针(默认0x08000000)\n",
    "\n",
    "    # 二、 Context Sensitivity Options:\n",
    "    # --ta-loop-peel=<uint>                             # 1. 指定在跟踪分区期间要区分的初始循环迭代次数\n",
    "    # --ta-num-callee-tokens=<int>                      # 2. 调用时区分上下文的被调用方令牌最大数量\n",
    "    \"--ta-num-callsite-tokens=1\",                       # 3. 调用时区分上下文的调用点令牌最大数量   # 指定调用点令牌的数量。 这影响分析工具如何处理函数调用。\n",
    "    # --ta-num-loop-tokens=<int>                        # 4. 循环相关令牌的最大数量\n",
    "\n",
    "    # 三、 Hardware Platform Configuration Options:\n",
    "    # 1. L2缓存延迟(默认4，传输单个字需要5周期)\n",
    "    f\"--ta-mem-latency={MEM_Latency}\",\n",
    "    # --ta-L2-latency=<uint>\n",
    "    # --ta-bgmem-type=<value>         # “sram，simpledram”\n",
    "    # --ta-dram-refresh-latency=<uint>\n",
    "    # --ta-mem-per-word-latency=<uint>\n",
    "    # 2. 指定内存类型为分离缓存（separate caches）。 这影响分析工具如何模拟内存访问。\n",
    "    \"--ta-memory-type=separatecaches\",    # none，single，separatecaches，priv-instr-spm-data-shared\n",
    "    # 3. 指定微架构类型为顺序执行（inorder/outoforder）。 这影响分析工具如何模拟指令的执行顺序。 \n",
    "    \"--ta-muarch-type=outoforder\",        # fixedlatency，pret，inorder，strictlyinorder，outoforder(inorder/outoforder)\n",
    "    # --ta-num-concurrent-cores=<uint>                      # none，roundRobin\n",
    "    # --ta-stall-on=<value>                                 # dramrefresh，busblocking\n",
    "    # 4. 指定调用点令牌的数量。 这影响分析工具如何处理函数调用。\n",
    "    # \"--ta-unblock-stores=true\",\n",
    "\n",
    "    # 四、 Cache Configuration:\n",
    "    # \"--ta-dcache-write-back=true\", \n",
    "    # \"--ta-dcache-write-allocate=true\", \n",
    "    # f\"--ta-Dcache-latency={args.l1_latency}\",\n",
    "    # --ta-dcache-replpol=<value>     # lru，fifo，alwayshit，alwaysmiss\n",
    "    f\"--ta-dcache-assoc={L1D_Assoc}\",\n",
    "    f\"--ta-dcache-nsets={L1D_Nsets}\",\n",
    "    f\"--ta-dcache-linesize={L1D_Linesize}\",\n",
    "    # f\"--ta-Icache-latency={args.l1_latency}\",\n",
    "    # --ta-icache-replpol=<value>     # lru，fifo，alwayshit，alwaysmiss\n",
    "    f\"--ta-icache-assoc={L1I_Assoc}\",\n",
    "    f\"--ta-icache-nsets={L1I_Nsets}\",\n",
    "    f\"--ta-icache-linesize={L1I_Linesize}\",\n",
    "    # f\"--ta-L2-latency={args.l2_latency}\",\n",
    "    # --ta-l2cache-replpol=<value>    # lru，fifo，alwayshit，alwaysmiss\n",
    "    f\"--ta-l2cache-assoc={L2C_Assoc}\",\n",
    "    f\"--ta-l2cache-nsets={L2C_Nsets}\",\n",
    "    f\"--ta-l2cache-linesize={L2C_Linesize}\",\n",
    "\n",
    "    # 五、Writeback Analysis:\n",
    "    # --ta-assume-clean-cache \n",
    "    # --ta-dfs-persistence\n",
    "    # --ta-dirtiness-analysis\n",
    "    # --ta-statically-refute-writebacks\n",
    "    # --ta-wb-bound=<value>             # none，store，dfs\n",
    "\n",
    "    # 六、Array-aware Cache Analysis:\n",
    "    # \"--ta-array-analysis=True\",\n",
    "    # --ta-array-must=<value>           # none,conflict-set-intersect,conflict-set-union,conflict-powerset \n",
    "    # --ta-array-persis=<value>         # none,setwise\n",
    "\n",
    "    # 七、Multi-Core Corunner-sensitive Analysis:\n",
    "    # --ta-access-cycles-joinable-partition-size=<uint>                     - Size of the partitions that are used to decide if two upper bounds on the number of access cycles should be joined. Only has an effect for the arrival curve calculation. By default, all bounds are joined. A value of 1 means only join identical bounds. A value of X means only join bounds that result in the same number if they are both integer divided by X.\n",
    "    # --ta-arrival-curve-calculation-method=<value>                         - Method used for the calculation of the arrival curve values used in co-runner-sensitive analysis. (default 'ilpbased')\n",
    "    #   =programGranularity                                                 -   Based on a minimum period and an upper bound on the number of accesses per program run. (potentially less precise)\n",
    "    #   =ilpbased                                                           -   Based on an ILP implicit path enumeration.\n",
    "    # --ta-arrival-curve-call-site-get-inner-edges-method=<value>           - Which method to use to detect the inner edges of call sites in the calculation of values on an arrival curve. (default 'insideProgramRuns')\n",
    "    #   =all                                                                -   all\n",
    "    #   =insideProgramRuns                                                  -   insideProgramRuns\n",
    "    #   =betweenInOutReachableSimple                                        -   betweenInOutReachableSimple\n",
    "    #   =betweenInOutReachableSimplePlus                                    -   betweenInOutReachableSimplePlus\n",
    "    #   =betweenInOutReachableDetailed                                      -   betweenInOutReachableDetailed\n",
    "    # --ta-arrival-curve-ilp-objective=<value>                              - Use one of two orthogonal objectives. Or use a combined version that is at least as precise as each variant, but potentially more precise than each one. (default 'variant1')\n",
    "    #   =variant1                                                           -   Sum up upper bound on event occurrences for each edge.\n",
    "    #   =variant2                                                           -   Sum up upper bound on event occurrences for each edge that is not first or the last of the path. For every remaining clock cycle of the time window, assume an event.\n",
    "    #   =combined                                                           -   For each ILP valuation, use the minimum of above two variants as objective.\n",
    "    # --ta-arrival-curve-ilp-time-limit=<number>                            - The time limit in seconds for one arrival curve value calculation via ILP. 0.0 is the default value. 0.0 means there is no time limit. Note that we strongly recommend using a time limit for the calculation of arrival curve values as it is significantly more complex than the calculation of per-execution-run event bounds.\n",
    "    # --ta-arrival-curve-loop-get-inner-edges-method=<value>                - Which method to use to detect the inner edges of loops in the calculation of values on an arrival curve. (default 'insideProgramRuns')\n",
    "    #   =all                                                                -   all\n",
    "    #   =insideProgramRuns                                                  -   insideProgramRuns\n",
    "    #   =betweenInOutReachableSimple                                        -   betweenInOutReachableSimple\n",
    "    #   =betweenInOutReachableSimplePlus                                    -   betweenInOutReachableSimplePlus\n",
    "    #   =betweenInOutReachableDetailed                                      -   betweenInOutReachableDetailed\n",
    "    # --ta-blocking-joinable-partition-size=<uint>                          - Size of the partitions that are used to decide if two lower blocking bounds should be joined. Only has an effect in combination with -ta-shared-memory-blocking-type=roundrobin+UBconcurrentaccesscycles. By default, all lower blocking bounds are joined. A value of 1 means only join identical bounds. A value of X means only join bounds that result in the same number if they are both integer divided by X.\n",
    "    # --ta-co-runner-sensitive                                              - Enables the co-runner-sensitive analysis. By default, is is disabled (false).\n",
    "    # --ta-co-runner-sensitive-analysis-fixed-point-type=<value>            - Determines which type of fixed point the iterative co-runner-sensitive analysis pursues (default 'greatest')\n",
    "    #   =least                                                              -   Obtain least fixed point.\n",
    "    #   =greatest                                                           -   Obtain greatest fixed point.\n",
    "    # --ta-co-runner-sensitive-dumped-blocked-cycles-scaled-to-accesses     - Dump the impact of the number of concurrently interfering accesses on the WCET bound instead of the concurrently interfering access cycles (default false).\n",
    "    # --ta-co-runner-sensitive-no-arrival-curve-values                      - Do not perform an arrival curve value calculation in co-runner-sensitive analysis. (default false)\n",
    "    # --ta-co-runner-sensitive-no-wcet-bound                                - Do not perform a WCET bound calculation in co-runner-sensitive analysis. A value true is not allowed if a relative period is specified. (default false)\n",
    "    # --ta-conc-acc-cyc-bounds=<string>                                     - Expects a list of natural numbers with semicolon as delimeter. The number of elements in the list must be a multiple of -ta-num-concurrent-cores and must not be 0.\n",
    "    # --ta-program-period=<uint>                                            - How many cycles at least have to pass between two starts of the program under a periodic scheduling. The default value 0 means that no periodic scheduling is assumed to lower bound the time between two program starts.\n",
    "    # --ta-program-period-rel=<number>                                      - value >= 1 means period is value * wcetAssumingMaxInterference. value < 1 means period is wcetAssumingNoInterference + value * (wcetAssumingMaxInterference - wcetAssumingNoInterference). Negative factor values are OK. If the resulting absolute period would be negative, it is assumed as 0. If the relative period is specified, it overwrites a possible absolute period.\n",
    "    # --ta-program-period-rel-eval-wrt-wcet-ignoring-interference           - If this is true, the relative period is multiplied with a wcet bound ignoring the interference to obtain the absolute period.\n",
    "    # --ta-program-period-subpath-method                                    - Use the subpath method for more precision when taking into account the program period.\n",
    "    # --ta-until-iteration-measurement=<int>                                - Perform dedicated measurements from the start until the end of the iteration for as many iterations as this parameter states. Note that there is also an iteration 0. A negative value disables this dedicated measurements. This parameter is ignored in co-runner-insensitive analysis.\n",
    "\n",
    "    # 八、 TODo:\n",
    "    # --Timing anomaly analysis, state splitting                            - (default 'T')\n",
    "    # --core=<uint>                                                         - The core for the analysis (default '0')\n",
    "    # --parallel-programs                                                   - Parallel Program Analysis\n",
    "    # --ta-multicore-type=<value> # :多核分析;：liangy、none\n",
    "    #\"--ta-multicore-type=none \"\n",
    "    f\"--core-info=/home/fyj/Desktop/data/WCET_Tool/CoreInfo.json\",\n",
    "    f\"--core-numbers=1\",\n",
    "    \"--shared-cache-persistence-analysis=false\",\n",
    "\n",
    "    # (*)\n",
    "    \"-debug-only=\", \n",
    "    # -debug-only=all \n",
    "    # --debug-entry-values\n",
    "    \n",
    "    # (1) input file\n",
    "    \"optimized.ll\",\n",
    "]\n",
    "\n",
    "print(' '.join(LLVMTA_INSTRUCT))"
   ]
  },
  {
   "cell_type": "markdown",
   "id": "5f2da6cd",
   "metadata": {},
   "source": [
    "## 2 Output File;"
   ]
  },
  {
   "cell_type": "markdown",
   "id": "a2c020a1",
   "metadata": {},
   "source": [
    "### (a) 外部函数信息(extfuncs)\n",
    "使用llvmta分析外部函数信息。\n",
    "输出外部函数注解模板文件(默认false)。\n",
    "--ta-output-unknown-extfuncs"
   ]
  },
  {
   "cell_type": "code",
   "execution_count": 158,
   "id": "78929a65",
   "metadata": {},
   "outputs": [
    {
     "name": "stdout",
     "output_type": "stream",
     "text": [
      "Timing Analysis for Core: 0\n"
     ]
    }
   ],
   "source": [
    "# llvmta $LLVMTA_INSTRUCT --ta-output-unknown-extfuncs=true optimized.ll > /dev/null 2>&1\n",
    "os.chdir(ANAL_DIR)\n",
    "if os.system(' '.join(LLVMTA_INSTRUCT + [\n",
    "    \"--ta-output-unknown-extfuncs=true\", \n",
    "    # \"> /dev/null 2>&1\"\n",
    "    ])) != 0:\n",
    "    exit(1)"
   ]
  },
  {
   "cell_type": "markdown",
   "id": "62cf9e67",
   "metadata": {},
   "source": [
    "### (b) 循环信息(loops)\n",
    "使用llvmta分析循环信息。\n",
    "输出循环注解文件(默认false)。\n",
    "--ta-output-unknown-loops"
   ]
  },
  {
   "cell_type": "code",
   "execution_count": 160,
   "id": "99ac1e40",
   "metadata": {},
   "outputs": [
    {
     "name": "stdout",
     "output_type": "stream",
     "text": [
      "Timing Analysis for Core: 0\n",
      " -> Finished Preprocessing Phase\n",
      "Timing Analysis for entry point: main\n"
     ]
    },
    {
     "name": "stderr",
     "output_type": "stream",
     "text": [
      "[Warning] We omitted a potential persistence scope due to external function calls/missing context sensitivity.\n"
     ]
    }
   ],
   "source": [
    "# llvmta $LLVMTA_INSTRUCT --ta-output-unknown-loops=true optimized.ll > /dev/null 2>&1\n",
    "os.chdir(ANAL_DIR)\n",
    "if os.system(' '.join(LLVMTA_INSTRUCT + [\n",
    "    \"--ta-output-unknown-loops\", \n",
    "    # \"> /dev/null 2>&1\"\n",
    "    ])) != 0:\n",
    "    exit(1)"
   ]
  },
  {
   "cell_type": "markdown",
   "id": "16f15da1",
   "metadata": {},
   "source": [
    "### (c) vcg"
   ]
  },
  {
   "cell_type": "code",
   "execution_count": null,
   "id": "4d7f45f1",
   "metadata": {},
   "outputs": [],
   "source": [
    "# llvmta $LLVMTA_INSTRUCT --ta-dumpb-vcg-graph optimized.ll > /dev/null 2>&1\n",
    "# if os.system(' '.join(_llvm_comm + [\"--ta-dumpb-vcg-graph\", \"optimized.ll\", \"> /dev/null 2>&1\"])) != 0:\n",
    "#     exit(1)"
   ]
  },
  {
   "cell_type": "markdown",
   "id": "41b88c72",
   "metadata": {},
   "source": [
    "## 3. Loop Bound Update;"
   ]
  },
  {
   "cell_type": "code",
   "execution_count": null,
   "id": "66fd928e",
   "metadata": {},
   "outputs": [
    {
     "name": "stderr",
     "output_type": "stream",
     "text": [
      "python3: can't open file '/workspaces/llvmta/testcases/quickGetBound.py': [Errno 2] No such file or directory\n"
     ]
    },
    {
     "data": {
      "text/plain": [
       "CompletedProcess(args=['python3', '/workspaces/llvmta/testcases/quickGetBound.py', '-s./'], returncode=2)"
      ]
     },
     "execution_count": 166,
     "metadata": {},
     "output_type": "execute_result"
    }
   ],
   "source": [
    "# cp -f LoopAnnotations.csv ${SOUR_DIR}\n",
    "# pushd \"$SOUR_DIR\" > /dev/null\n",
    "#     cp -f LoopAnnotations.csv LLoopAnnotations.csv\n",
    "#     python3 /workspaces/llvmta/testcases/quickGetBound.py -s \"./\"   # > /dev/null 2>&1\n",
    "#     mv -f LoopAnnotations.csv $ANAL_DIR\n",
    "#     mv -f LLoopAnnotations.csv $ANAL_DIR\n",
    "# popd > /dev/null\n",
    "\n",
    "# os.chdir(ANAL_DIR)\n",
    "# shutil.copy(\"LoopAnnotations.csv\", \"LLoopAnnotations.csv\")\n",
    "\n",
    "shutil.copy(os.path.join(ANAL_DIR, \"LoopAnnotations.csv\"), \n",
    "            os.path.join(CODE_DIRS.split()[0], \"LoopAnnotations.csv\"))\n",
    "\n",
    "os.chdir(CODE_DIRS.split()[0])\n",
    "shutil.copy(\"LoopAnnotations.csv\", \"LLoopAnnotations.csv\")\n",
    "subprocess.run([\"python3\", \n",
    "                \"/home/fyj/Desktop/data/WCET_Tool/quickGetBound.py\", \n",
    "                # \"/workspaces/llvmta/testcases/quickGetBound.py\", \n",
    "                f\"-s./\" ])\n",
    "\n",
    "# shutil.move(\"LoopAnnotations.csv\", os.path.join(ANAL_DIR, \"LoopAnnotations.csv\"))\n",
    "# shutil.move(\"LLoopAnnotations.csv\", os.path.join(ANAL_DIR, \"LLoopAnnotations.csv\"))\n",
    "\n",
    "# shutil.copy('LoopAnnotations.csv', out_dir / 'LoopAnnotations.csv')\n",
    "# shutil.copy('LoopAnnotations.csv', 'LLoopAnnotations.csv')\n",
    "\n",
    "# with open('LoopAnnotations.csv', 'r') as f:\n",
    "#     data = f.readlines()\n",
    "#     output_data = list()\n",
    "#     for i in range(len(data)):\n",
    "#         if i != 0 and data[i].startswith('#'):\n",
    "#             continue\n",
    "#         output_data.append(data[i])\n",
    "\n",
    "# with open('LoopAnnotations.csv', 'w') as f:\n",
    "#     f.writelines(output_data)\n",
    "\n",
    "# shutil.copy('LoopAnnotations.csv', src_dir / 'LoopAnnotations.csv')\n",
    "# shutil.copy('LoopAnnotations.csv', src_dir / 'LLoopAnnotations.csv')\n",
    "# shutil.copy('LoopAnnotations.csv', out_dir / 'LoopAnnotations.csv')\n",
    "# shutil.copy('LoopAnnotations.csv', out_dir / 'LLoopAnnotations.csv')"
   ]
  },
  {
   "cell_type": "markdown",
   "id": "01f5d60a",
   "metadata": {},
   "source": [
    "## 4. WCET Analysis"
   ]
  },
  {
   "cell_type": "code",
   "execution_count": 164,
   "id": "6ad236b4",
   "metadata": {},
   "outputs": [
    {
     "name": "stderr",
     "output_type": "stream",
     "text": [
      "[Warning] We omitted a potential persistence scope due to external function calls/missing context sensitivity.\n",
      "llvmta: /home/fyj/Desktop/data/1_WCETSpace/TAM/lib/PathAnalysis/LoopBoundInfo.cpp:1010: void TimingAnalysisPass::LoopBoundInfoPass::parseNormalManualLoopBounds(std::ifstream&, std::unordered_map<const llvm::MachineLoop*, unsigned int>&): Assertion `Value >= 0 && \"[Error] Loop bound is not properly defined.\\n\"' failed.\n",
      "PLEASE submit a bug report to https://github.com/llvm/llvm-project/issues/ and include the crash backtrace.\n",
      "Stack dump:\n",
      "0.\tProgram arguments: llvmta -disable-tail-calls -float-abi=hard -mattr=-neon,+vfp2 -O0 --ta-strict=false --ta-l2cache-persistence=elementwise --ta-num-callsite-tokens=1 --ta-mem-latency=100 --ta-memory-type=separatecaches --ta-muarch-type=outoforder --ta-dcache-assoc=8 --ta-dcache-nsets=128 --ta-dcache-linesize=64 --ta-icache-assoc=8 --ta-icache-nsets=128 --ta-icache-linesize=64 --ta-l2cache-assoc=8 --ta-l2cache-nsets=1024 --ta-l2cache-linesize=64 --core-info=/home/fyj/Desktop/data/WCET_Tool/CoreInfo.json --core-numbers=1 --shared-cache-persistence-analysis=false -debug-only= optimized.ll --ta-loop-bounds-file=LoopAnnotations.csv --ta-restart-after-external --ta-extfunc-annotation-file=ExtFuncAnnotations.csv\n",
      " #0 0x0000607f918004f6 llvm::sys::PrintStackTrace(llvm::raw_ostream&, int) /home/fyj/Desktop/data/1_WCETSpace/LLVM/llvm/lib/Support/Unix/Signals.inc:565:22\n",
      " #1 0x0000607f918005bd PrintStackTraceSignalHandler(void*) /home/fyj/Desktop/data/1_WCETSpace/LLVM/llvm/lib/Support/Unix/Signals.inc:632:1\n",
      " #2 0x0000607f917fdee2 llvm::sys::RunSignalHandlers() /home/fyj/Desktop/data/1_WCETSpace/LLVM/llvm/lib/Support/Signals.cpp:97:20\n",
      " #3 0x0000607f917ffdbc SignalHandler(int) /home/fyj/Desktop/data/1_WCETSpace/LLVM/llvm/lib/Support/Unix/Signals.inc:407:1\n",
      " #4 0x00007e426ae42520 (/lib/x86_64-linux-gnu/libc.so.6+0x42520)\n",
      " #5 0x00007e426ae969fc __pthread_kill_implementation ./nptl/./nptl/pthread_kill.c:44:76\n",
      " #6 0x00007e426ae969fc __pthread_kill_internal ./nptl/./nptl/pthread_kill.c:78:10\n",
      " #7 0x00007e426ae969fc pthread_kill ./nptl/./nptl/pthread_kill.c:89:10\n",
      " #8 0x00007e426ae42476 gsignal ./signal/../sysdeps/posix/raise.c:27:6\n",
      " #9 0x00007e426ae287f3 abort ./stdlib/./stdlib/abort.c:81:7\n",
      "#10 0x00007e426ae2871b _nl_load_domain ./intl/./intl/loadmsgcat.c:1177:9\n",
      "#11 0x00007e426ae39e96 (/lib/x86_64-linux-gnu/libc.so.6+0x39e96)\n",
      "#12 0x0000607f927b0a60 TimingAnalysisPass::LoopBoundInfoPass::parseNormalManualLoopBounds(std::basic_ifstream<char, std::char_traits<char> >&, std::unordered_map<llvm::MachineLoop const*, unsigned int, std::hash<llvm::MachineLoop const*>, std::equal_to<llvm::MachineLoop const*>, std::allocator<std::pair<llvm::MachineLoop const* const, unsigned int> > >&) /home/fyj/Desktop/data/1_WCETSpace/TAM/lib/PathAnalysis/LoopBoundInfo.cpp:1012:22\n",
      "#13 0x0000607f927b1df4 TimingAnalysisPass::LoopBoundInfoPass::parseManualLoopBounds(char const*, std::unordered_map<llvm::MachineLoop const*, std::unordered_map<TimingAnalysisPass::Context, unsigned int, std::hash<TimingAnalysisPass::Context>, std::equal_to<TimingAnalysisPass::Context>, std::allocator<std::pair<TimingAnalysisPass::Context const, unsigned int> > >, std::hash<llvm::MachineLoop const*>, std::equal_to<llvm::MachineLoop const*>, std::allocator<std::pair<llvm::MachineLoop const* const, std::unordered_map<TimingAnalysisPass::Context, unsigned int, std::hash<TimingAnalysisPass::Context>, std::equal_to<TimingAnalysisPass::Context>, std::allocator<std::pair<TimingAnalysisPass::Context const, unsigned int> > > > > >&, std::unordered_map<llvm::MachineLoop const*, unsigned int, std::hash<llvm::MachineLoop const*>, std::equal_to<llvm::MachineLoop const*>, std::allocator<std::pair<llvm::MachineLoop const* const, unsigned int> > >&) /home/fyj/Desktop/data/1_WCETSpace/TAM/lib/PathAnalysis/LoopBoundInfo.cpp:1125:51\n",
      "#14 0x0000607f927b0711 TimingAnalysisPass::LoopBoundInfoPass::parseManualUpperLoopBounds(char const*) /home/fyj/Desktop/data/1_WCETSpace/TAM/lib/PathAnalysis/LoopBoundInfo.cpp:977:1\n",
      "#15 0x0000607f91bcceba void TimingAnalysisPass::TimingAnalysisMain::dispatchValueAnalysis<(llvm::Triple::ArchType)1>() /home/fyj/Desktop/data/1_WCETSpace/TAM/lib/LLVMPasses/TimingAnalysisMain.cpp:376:3\n",
      "#16 0x0000607f91bb432d TimingAnalysisPass::TimingAnalysisMain::doFinalization(llvm::Module&) /home/fyj/Desktop/data/1_WCETSpace/TAM/lib/LLVMPasses/TimingAnalysisMain.cpp:286:53\n",
      "#17 0x0000607f90c53daf llvm::FPPassManager::doFinalization(llvm::Module&) /home/fyj/Desktop/data/1_WCETSpace/LLVM/llvm/lib/IR/LegacyPassManager.cpp:1498:13\n",
      "#18 0x0000607f90c54399 (anonymous namespace)::MPPassManager::runOnModule(llvm::Module&) /home/fyj/Desktop/data/1_WCETSpace/LLVM/llvm/lib/IR/LegacyPassManager.cpp:1585:13\n",
      "#19 0x0000607f90c4e912 llvm::legacy::PassManagerImpl::run(llvm::Module&) /home/fyj/Desktop/data/1_WCETSpace/LLVM/llvm/lib/IR/LegacyPassManager.cpp:539:13\n",
      "#20 0x0000607f90c54aef llvm::legacy::PassManager::run(llvm::Module&) /home/fyj/Desktop/data/1_WCETSpace/LLVM/llvm/lib/IR/LegacyPassManager.cpp:1677:1\n",
      "#21 0x0000607f8eeee2e2 compileModule(char**, llvm::LLVMContext&) /home/fyj/Desktop/data/1_WCETSpace/TAM/llvmta/llvmta.cpp:743:66\n",
      "#22 0x0000607f8eeebb8a main /home/fyj/Desktop/data/1_WCETSpace/TAM/llvmta/llvmta.cpp:421:35\n",
      "#23 0x00007e426ae29d90 __libc_start_call_main ./csu/../sysdeps/nptl/libc_start_call_main.h:58:16\n",
      "#24 0x00007e426ae29e40 call_init ./csu/../csu/libc-start.c:128:20\n",
      "#25 0x00007e426ae29e40 __libc_start_main ./csu/../csu/libc-start.c:379:5\n",
      "#26 0x0000607f8eeea745 _start (/home/fyj/Desktop/data/1_WCETSpace/build/bin/llvmta+0x49ad745)\n",
      "Aborted (core dumped)\n"
     ]
    }
   ],
   "source": [
    "# bound=$(llvmta $LLVMTA_INSTRUCT \\\n",
    "#     --ta-loop-bounds-file=LoopAnnotations.csv \\\n",
    "#     --ta-loop-lowerbounds-file=LLoopAnnotations.csv \\\n",
    "#     --ta-restart-after-external \\\n",
    "#     --ta-extfunc-annotation-file=ExtFuncAnnotations.csv \\\n",
    "#     -debug-only= \\\n",
    "#     optimized.ll \\\n",
    "# 2>&1 | grep \"Calculated Timing Bound\" | awk '{print $NF}')\n",
    "# echo \"Bound:$bound\"\n",
    "os.chdir(ANAL_DIR)\n",
    "if os.system(' '.join(LLVMTA_INSTRUCT + [\"--ta-loop-bounds-file=LoopAnnotations.csv\",\n",
    "                                        #  \"--ta-loop-lowerbounds-file=LLoopAnnotations.csv\",\n",
    "                                         \"--ta-restart-after-external\",\n",
    "                                         \"--ta-extfunc-annotation-file=ExtFuncAnnotations.csv\"])) != 0:\n",
    "    exit(1)"
   ]
  },
  {
   "cell_type": "markdown",
   "id": "9eb05aeb",
   "metadata": {},
   "source": [
    "## 5. 输出AEG图"
   ]
  },
  {
   "cell_type": "code",
   "execution_count": null,
   "id": "0ce35b5f",
   "metadata": {},
   "outputs": [],
   "source": [
    "# sed 's/|->/maps to/g' StateGraph_Time.dot > AEG.dot\n",
    "# dot -Tpng AEG.dot -o output.png\n",
    "# dot -Tpng StateGraph_Time.dot -o output.png    # _BUFFX"
   ]
  },
  {
   "cell_type": "markdown",
   "id": "7975ff91",
   "metadata": {},
   "source": [
    "# S3. 总编译\n",
    "./S3_TCompile.sh $PROJECT "
   ]
  }
 ],
 "metadata": {
  "kernelspec": {
   "display_name": "Python 3",
   "language": "python",
   "name": "python3"
  },
  "language_info": {
   "codemirror_mode": {
    "name": "ipython",
    "version": 3
   },
   "file_extension": ".py",
   "mimetype": "text/x-python",
   "name": "python",
   "nbconvert_exporter": "python",
   "pygments_lexer": "ipython3",
   "version": "3.10.12"
  }
 },
 "nbformat": 4,
 "nbformat_minor": 5
}
