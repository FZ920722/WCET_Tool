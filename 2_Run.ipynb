{
 "cells": [
  {
   "cell_type": "code",
   "execution_count": 1,
   "id": "ef96728a",
   "metadata": {},
   "outputs": [],
   "source": [
    "#!/usr/bin/env python3\n",
    "\n",
    "import os\n",
    "import json\n",
    "import shutil\n",
    "import subprocess\n",
    "\n",
    "import pandas as pd"
   ]
  },
  {
   "cell_type": "code",
   "execution_count": 5,
   "id": "77232f14",
   "metadata": {},
   "outputs": [
    {
     "name": "stdout",
     "output_type": "stream",
     "text": [
      "0 1 4\n",
      "1 2 5\n",
      "2 3 6\n"
     ]
    }
   ],
   "source": [
    "import pandas as pd\n",
    "\n",
    "# 创建一个DataFrame\n",
    "df = pd.DataFrame({\n",
    "    'A': [1, 2, 3],\n",
    "    'B': [4, 5, 6]\n",
    "})\n",
    "\n",
    "# 使用iterrows()遍历\n",
    "for index, row in df.iterrows():\n",
    "    print(index, row['A'], row['B'])\n"
   ]
  },
  {
   "cell_type": "code",
   "execution_count": 27,
   "id": "8a7ab8b9",
   "metadata": {},
   "outputs": [
    {
     "name": "stdout",
     "output_type": "stream",
     "text": [
      "0 __errno|1|1/1/1/1\n",
      "1 file_dup|1|1/1/1/1\n",
      "2 file_ioctl|1|1/1/1/1\n",
      "3 file_seek|1|1/1/1/1\n",
      "4 fs_getfilep|1|1/1/1/1\n",
      "5 fs_putfilep|1|1/1/1/1\n"
     ]
    }
   ],
   "source": [
    "import pandas as pd\n",
    "\n",
    "df = pd.read_csv('ExtFuncAnnotations.csv', header=None)\n",
    "for index, row in df.iterrows():\n",
    "    row[0] = row[0].replace(\"<start address>\", \"1\")\n",
    "    row[0] = row[0].replace(\"<max cycles/accesses/hits/misses>\", \"1/1/1/1\")\n",
    "    print(index, row[0])\n",
    "\n",
    "# print(df)\n",
    "df.to_csv('ExtFuncAnnotations.csv', index=False, header=0)\n"
   ]
  },
  {
   "cell_type": "markdown",
   "id": "9c0cbd32",
   "metadata": {},
   "source": [
    "# S0. Set Environment Variables"
   ]
  },
  {
   "cell_type": "code",
   "execution_count": 2,
   "id": "573333a5",
   "metadata": {},
   "outputs": [
    {
     "name": "stdout",
     "output_type": "stream",
     "text": [
      "        syscall                  code        head\n",
      "0    aio_cancel  /fs/aio/aio_cancel.c       aio.h\n",
      "1     aio_fsync   /fs/aio/aio_fsync.c       aio.h\n",
      "2     aio_write   /fs/aio/aio_write.c       aio.h\n",
      "3      aio_read    /fs/aio/aio_read.c       aio.h\n",
      "4         fcntl    /fs/vfs/fs_fcntl.c     fcntl.h\n",
      "..          ...                   ...         ...\n",
      "202       readv                         sys/uio.h\n",
      "203      writev                         sys/uio.h\n",
      "204        wait                        sys/wait.h\n",
      "205      waitid                        sys/wait.h\n",
      "206     waitpid                        sys/wait.h\n",
      "\n",
      "[207 rows x 3 columns]\n"
     ]
    }
   ],
   "source": [
    "_r = list()\n",
    "# os.path.dirname(os.path.abspath(__file__) )\n",
    "with open('/home/fyj/Desktop/data/WCET_Tool/_OSData.json', 'r') as _f:\n",
    "# with open('/home/fyj/Desktop/data/WCET_Tool/_TacleData.json', 'r') as _f:\n",
    "    for _i, _ds in json.load(_f).items():\n",
    "        # print(f\"{_i}\")\n",
    "        for _d in _ds:\n",
    "            # print(f\"\\t{_d[0]}\\t{_d[1]}\")\n",
    "            _r.append({'syscall': _d[0], 'code': _d[1], 'head': _i})\n",
    "\n",
    "\n",
    "df = pd.DataFrame(_r)\n",
    "print(df)\n",
    "df.to_csv('./_OSData.csv', index=False)"
   ]
  },
  {
   "cell_type": "markdown",
   "id": "ce852962",
   "metadata": {},
   "source": [
    "## 0.1.1 tacle-bench"
   ]
  },
  {
   "cell_type": "code",
   "execution_count": null,
   "id": "05c39329",
   "metadata": {},
   "outputs": [],
   "source": [
    "PROJECTTYPE='app'\n",
    "PROJECTNAME='lift'\n",
    "\n",
    "TACLE_BENCH_DIR='/home/fyj/Desktop/data/1_WCETSpace/tacle-bench'\n",
    "\n",
    "FILE_DIR=os.path.join(TACLE_BENCH_DIR, 'bench.json')\n",
    "SOUR_DIR=os.path.join(TACLE_BENCH_DIR, 'bench', PROJECTTYPE, PROJECTNAME)\n",
    "\n",
    "def __path_code_ana(_s, _d):\n",
    "    if _d:\n",
    "        return ' '.join(os.path.join(_s, __dx) for __dx in _d) \n",
    "    else: \n",
    "        return _s\n",
    "\n",
    "def __path_head_ana(_h, _d):\n",
    "    if _d:\n",
    "        return ' '.join(os.path.join(_h, __dx) for __dx in _d) \n",
    "    else: \n",
    "        return _h\n",
    "\n",
    "with open(FILE_DIR, 'r') as _f:\n",
    "    _d = json.load(_f)\n",
    "    # 1. code addr\n",
    "    CODE_DIRS = __path_code_ana(SOUR_DIR, _d[PROJECTTYPE][PROJECTNAME]['c'].split())\n",
    "\n",
    "    # 2. head addr\n",
    "    HEAD_DIRS=__path_head_ana(SOUR_DIR, _d[PROJECTTYPE][PROJECTNAME]['h'].split())"
   ]
  },
  {
   "cell_type": "markdown",
   "id": "c466e9c7",
   "metadata": {},
   "source": [
    "## 0.1.2 Nuttx "
   ]
  },
  {
   "cell_type": "code",
   "execution_count": 75,
   "id": "f58d1b29",
   "metadata": {},
   "outputs": [],
   "source": [
    "# /home/fyj/Desktop/data/WCET_Tool/temp_dir\n",
    "# /home/fyj/Desktop/data/WCET_Tool/pthread_create\n",
    "# NUTTX_HOME=\"/home/fyj/Desktop/data/1_WCETSpace/nuttxspace\"\n",
    "NUTTX_HOME=\"/home/fyj/Desktop/data/1_WCETSpace/vela-opensource\"\n",
    "\n",
    "# 1. code addr\n",
    "CODE_FILE = [\n",
    "    os.path.join(NUTTX_HOME, \"nuttx/sched/pthread/pthread_create.c\"),\n",
    "]\n",
    "\n",
    "# 2. head addr\n",
    "HEAD_DIRS = [\n",
    "    os.path.join(NUTTX_HOME, \"nuttx/sched\"),\n",
    "    #   task/task.h\n",
    "    #   pthread/pthread.h\n",
    "    os.path.join(NUTTX_HOME, \"nuttx/include\"),\n",
    "    #   string.h\n",
    "    #   stdbool.h\n",
    "    #   sys/types.h\n",
    "    #   nuttx/config.h\n",
    "]"
   ]
  },
  {
   "cell_type": "markdown",
   "id": "ebfa3b5d",
   "metadata": {},
   "source": [
    "## 0.2 Work Path"
   ]
  },
  {
   "cell_type": "code",
   "execution_count": 76,
   "id": "93c706ca",
   "metadata": {},
   "outputs": [
    {
     "name": "stdout",
     "output_type": "stream",
     "text": [
      "WORK_DIR:\n",
      "\t/home/fyj/Desktop/data/WCET_Tool/WorkSpace\n",
      "COMP_DIR:\n",
      "\t/home/fyj/Desktop/data/WCET_Tool/WorkSpace/Compile\n",
      "ANAL_DIR:\n",
      "\t/home/fyj/Desktop/data/WCET_Tool/WorkSpace/Analysis\n",
      "CODE_FILE:\n",
      "\t['/home/fyj/Desktop/data/1_WCETSpace/vela-opensource/nuttx/sched/pthread/pthread_create.c']\n",
      "HEAD_DIRS:\n",
      "\t['/home/fyj/Desktop/data/1_WCETSpace/vela-opensource/nuttx/sched', '/home/fyj/Desktop/data/1_WCETSpace/vela-opensource/nuttx/include']\n",
      "ENTRYPOINT:\n",
      "\tnx_pthread_create\n",
      "COREINFORMATION:\n",
      "\t/home/fyj/Desktop/data/WCET_Tool/WorkSpace/CoreInfo.json\n"
     ]
    }
   ],
   "source": [
    "# 1. work path\n",
    "WORK_DIR=\"/home/fyj/Desktop/data/WCET_Tool/WorkSpace\"\n",
    "if os.path.exists(WORK_DIR):\n",
    "    shutil.rmtree(WORK_DIR)\n",
    "os.mkdir(WORK_DIR)\n",
    "\n",
    "# 2. comp path\n",
    "COMP_DIR=os.path.join(WORK_DIR, \"Compile\")\n",
    "if os.path.exists(COMP_DIR):\n",
    "    shutil.rmtree(COMP_DIR)\n",
    "os.mkdir(COMP_DIR)\n",
    "\n",
    "# 3. anal path\n",
    "ANAL_DIR=os.path.join(WORK_DIR, \"Analysis\")\n",
    "if os.path.exists(ANAL_DIR):\n",
    "    shutil.rmtree(ANAL_DIR)\n",
    "os.mkdir(ANAL_DIR)\n",
    "\n",
    "# 4. entry point\n",
    "# ENTRYPOINT=\"main\"\n",
    "# ENTRYPOINT=\"pthread_start\"\n",
    "ENTRYPOINT=\"nx_pthread_create\"\n",
    "\n",
    "# 5. Core data\n",
    "COREINFORMATION=os.path.join(WORK_DIR, \"CoreInfo.json\")\n",
    "\n",
    "print(f\"WORK_DIR:\\n\\t{WORK_DIR}\")\n",
    "print(f\"COMP_DIR:\\n\\t{COMP_DIR}\")\n",
    "print(f\"ANAL_DIR:\\n\\t{ANAL_DIR}\")\n",
    "\n",
    "print(f\"CODE_FILE:\\n\\t{CODE_FILE}\")\n",
    "# print(f\"CODE_DIRS:{'\\n\\t'.join(CODE_DIRS.split())}\")\n",
    "\n",
    "print(f\"HEAD_DIRS:\\n\\t{HEAD_DIRS}\")\n",
    "# print(f\"HEAD_DIRS:{'\\n\\t'.join(HEAD_DIRS.split())}\")\n",
    "\n",
    "print(f\"ENTRYPOINT:\\n\\t{ENTRYPOINT}\")\n",
    "print(f\"COREINFORMATION:\\n\\t{COREINFORMATION}\")"
   ]
  },
  {
   "cell_type": "markdown",
   "id": "eb41d3c2",
   "metadata": {},
   "source": [
    "## 0.3 CoreInformation"
   ]
  },
  {
   "cell_type": "code",
   "execution_count": 77,
   "id": "15ca74a2",
   "metadata": {},
   "outputs": [],
   "source": [
    "with open(COREINFORMATION, 'w') as _f:\n",
    "    json.dump([\n",
    "        {\n",
    "            \"core\": 0,\n",
    "            \"tasks\": [\n",
    "                {\n",
    "                    \"function\": ENTRYPOINT\n",
    "                }\n",
    "            ]\n",
    "        }\n",
    "    ], _f, indent=4)\n"
   ]
  },
  {
   "cell_type": "markdown",
   "id": "e4296270",
   "metadata": {},
   "source": [
    "# S1. Basic Compile(生成IR)"
   ]
  },
  {
   "cell_type": "markdown",
   "id": "46391d2b",
   "metadata": {},
   "source": [
    "## 1. clang compile:\n",
    "- *.c -> *.ll"
   ]
  },
  {
   "cell_type": "code",
   "execution_count": 78,
   "id": "41068b33",
   "metadata": {},
   "outputs": [
    {
     "name": "stdout",
     "output_type": "stream",
     "text": [
      "clang\n",
      "\t -w\n",
      "\t -S\n",
      "\t -gline-tables-only\n",
      "\t -O0\n",
      "\t -Xclang -disable-O0-optnone\n",
      "\t -fno-builtin\n",
      "\t -target arm\n",
      "\t -march=armv7a\n",
      "\t -mfloat-abi=hard\n",
      "\t -emit-llvm\n",
      "\t /home/fyj/Desktop/data/1_WCETSpace/vela-opensource/nuttx/sched/pthread/pthread_create.c\n",
      "\t -I /home/fyj/Desktop/data/1_WCETSpace/vela-opensource/nuttx/sched -I /home/fyj/Desktop/data/1_WCETSpace/vela-opensource/nuttx/include\n"
     ]
    }
   ],
   "source": [
    "CLANG_INSTRUCT=[\n",
    "    # (1) instruct;\n",
    "    \"clang\",\n",
    "    \"-w\",                          # 禁止所有警告信息。\n",
    "    \"-S\",                          # clang生成汇编代码（.s 文件而不是可执行文件），结合-emit-llvm选项会生成LLVM IR文件（.ll 文件）。\n",
    "    \"-gline-tables-only\",          # 生成最小的调试信息：生成仅包含行号信息的调试信息（最小的调试信息），仅包含源代码行号映射，而不包含完整的调试信息。\n",
    "    \"-O0\",                         # 禁用优化（生成未优化的代码，便于调试）。\n",
    "    \"-Xclang -disable-O0-optnone\", # 用于在-O0级禁用所有优化（clang前端的选项）。\n",
    "    \"-fno-builtin\",                # 禁用内置函数优化。编译器不使用内置函数（如__builtin_memcpy等）优化，仅使用标准库函数。            \n",
    "    \"-target arm\",                 # 指定目标架构(arm / aarch64-linux-gnu / -target=riscv64 )，告诉编译器生成针对ARM架构的代码。\n",
    "    \"-march=armv7a\",\n",
    "    # \"-march=armv4t\",               # 指定目标架构版本为(-march=armv8/armv4t/rv64gc/armv7-a)。这会影响生成的代码的指令集和特性。\n",
    "    # \"-target aarch64\", \n",
    "    # \"-march=armv8-a\", \n",
    "    \"-mfloat-abi=hard\",            # 使用硬(软)浮点ABI，浮点运算将直接使用硬(软)件浮点指令，而不是软件浮点。\n",
    "    # \"-D__AVR__ -D__AVR_ATmega128__\"\n",
    "    \"-emit-llvm\",                  # 生成LLVM中间表示(IR)文件。生成LLVM中间表示（IR）文件。这个选项告诉clang生成.ll 文件，而不是汇编/可执行文件。\n",
    "    # \"-fno-discard-value-names\",\n",
    "    \n",
    "    # (2) code addr;\n",
    "    ' '.join(CODE_FILE),\n",
    "    # ' '.join(f\"{_cd}/*.c\" for _cd in CODE_DIRS)\n",
    "    # for _sd in CODE_DIRS.split(\",\"): if not Path(_sd).exists() and not Path(_sd).is_dir():\n",
    "\n",
    "    # (3) head addr;\n",
    "    ' '.join(f\"-I {_hd}\" for _hd in HEAD_DIRS),\n",
    "    # '-I /home/fyj/Desktop/data/1_WCETSpace/vela-opensource/nuttx'\n",
    "    # '-I /home/fyj/Desktop/data/1_WCETSpace/vela-opensource/nuttx/include'\n",
    "    # for _hd in HEAD_DIRS.split(\",\"): if not Path(_hd).exists() and not Path(_hd).is_dir():\n",
    "\n",
    "    # (4) no print;\n",
    "    # \"> /dev/null 2>&1\"\n",
    "]\n",
    "\n",
    "print('\\n\\t '.join(CLANG_INSTRUCT))"
   ]
  },
  {
   "cell_type": "code",
   "execution_count": 79,
   "id": "1ee25853",
   "metadata": {},
   "outputs": [],
   "source": [
    "os.chdir(COMP_DIR)\n",
    "if os.system(' '.join(CLANG_INSTRUCT)) != 0:\n",
    "    exit(1)"
   ]
  },
  {
   "cell_type": "markdown",
   "id": "a360a61d",
   "metadata": {},
   "source": [
    "## 2. llvm link(链接): \n"
   ]
  },
  {
   "cell_type": "code",
   "execution_count": 80,
   "id": "47a4de35",
   "metadata": {},
   "outputs": [],
   "source": [
    "os.chdir(COMP_DIR)\n",
    "if os.system(\"llvm-link *.ll -o unoptimized.ll\") != 0:\n",
    "    exit(1)"
   ]
  },
  {
   "cell_type": "markdown",
   "id": "5c47c7a7",
   "metadata": {},
   "source": [
    "## 3. opt 优化:"
   ]
  },
  {
   "cell_type": "code",
   "execution_count": 81,
   "id": "4235bac3",
   "metadata": {},
   "outputs": [
    {
     "name": "stdout",
     "output_type": "stream",
     "text": [
      "opt unoptimized.ll -S -mem2reg -indvars -loop-simplify -instcombine -globaldce -dce -o optimized.ll\n"
     ]
    }
   ],
   "source": [
    "OPT_INSTRUCT = [\n",
    "    \"opt\",              # opt是LLVM的优化工具，用于对LLVM中间表示（IR）文件进行各种优化。它可以加载和运行LLVM Passes（优化模块）。\n",
    "    # (1) 输入项;\n",
    "    \"unoptimized.ll\",   # 输入一个未优化的LLVM模块文件。unoptimized.ll为一个未优化的LLVM模块文件；\n",
    "\n",
    "    # (2) 优化选项\n",
    "    \"-S\",               # opt输出优化后的结果为LLVM IR文件（.ll 文件），而不是默认的二进制.bc文件。\n",
    "    # \"-lowerswitch\",\n",
    "    \"-mem2reg\",         # 将内存访问转换为寄存器访问          这个Pass会将alloca指令（堆栈分配）转换为寄存器，从而提高代码的性能。\n",
    "    \"-indvars\",         # 优化循环中的归纳变量               这个Pass会简化循环中的变量计算，减少冗余操作。\n",
    "    \"-loop-simplify\",   # 简化循环结构(LoopSimplify Pass)： 这个Pass会将复杂的循环结构转换为更简单的形式，便于后续优化。# 其插入Preheader、单一Backedge、唯一Exit Block，消除异常控制流，使循环结构标准化，便于Loop Pass应用。分离循环头（Header）和入口块（Preheader），消除复杂的控制流分支，提升LLVMTA的可分析性。\n",
    "    \"-instcombine\",     # 合并冗余指令                      这个Pass会查找并合并重复或冗余的指令，减少指令数量。\n",
    "    \"-globaldce\",       # 全局死代码消除                    这个Pass会移除未使用的全局变量和函数。\n",
    "    \"-dce\",             # 死代码消除                       这个Pass会移除未使用的指令。\n",
    "    # \"-dot-cfg\",         # 生成控制流图（CFG）的 .dot 文件。每个函数的控制流图将保存为一个 .dot 文件，例如 .main.dot。和LLVMTA分析功能无关。去掉它不会影响分析结果。\n",
    "    # \"-licm\",\n",
    "    # \"-loop-rotate\",\n",
    "    # \"-loop-unroll\",\n",
    "    # \"-unroll-loops\",   # 启用循环展开（Loop Unrolling）优化，默认依据上面-unroll-count值控制展开。\n",
    "    # \"-unroll-count=2\", # 设置循环展开的次数（手动指定为 2 次），即循环体被复制两遍。\n",
    "    # \"-verify\",\n",
    "\n",
    "    # (3) 输出项\n",
    "    \"-o optimized.ll\",  # 指定输出文件的名称为 optimized.ll。\n",
    "\n",
    "    # (4) no print;\n",
    "    # \"> /dev/null 2>&1\"\n",
    "]\n",
    "\n",
    "print(' '.join(OPT_INSTRUCT))"
   ]
  },
  {
   "cell_type": "code",
   "execution_count": 82,
   "id": "241a6a7a",
   "metadata": {},
   "outputs": [],
   "source": [
    "os.chdir(COMP_DIR)\n",
    "if os.system(' '.join(OPT_INSTRUCT)) != 0:\n",
    "    exit(1)"
   ]
  },
  {
   "cell_type": "markdown",
   "id": "1c00d68c",
   "metadata": {},
   "source": [
    "## 4. 输出CFG图:\n",
    "%0 = call i32 asm sideeffect \"mov $0, sp\\0A\", \"=r\"() #4, !dbg !32, !srcloc !33"
   ]
  },
  {
   "cell_type": "code",
   "execution_count": 37,
   "id": "0f40684c",
   "metadata": {},
   "outputs": [
    {
     "name": "stderr",
     "output_type": "stream",
     "text": [
      "Error: dot: can't open .nx_pthread_create.dot\n"
     ]
    }
   ],
   "source": [
    "# dot -Tpng .\"$entrypoint\".dot -o \"$entrypoint\".png\n",
    "os.chdir(COMP_DIR)\n",
    "if os.system(f\"dot -Tpng .{ENTRYPOINT}.dot -o {ENTRYPOINT}.png\") != 0:\n",
    "    exit(1)"
   ]
  },
  {
   "cell_type": "markdown",
   "id": "0de7116e",
   "metadata": {},
   "source": [
    "## 5. Vertify 编译检测；"
   ]
  },
  {
   "cell_type": "code",
   "execution_count": 27,
   "id": "bbbd6032",
   "metadata": {},
   "outputs": [],
   "source": [
    "# llc optimized.ll -filetype=obj -o optimized.o\n",
    "os.chdir(COMP_DIR)\n",
    "if os.system(f\"llc optimized.ll -filetype=obj -o optimized.o\") != 0:\n",
    "    exit(1)"
   ]
  },
  {
   "cell_type": "markdown",
   "id": "a97c481d",
   "metadata": {},
   "source": [
    "# S2. Analysis(分析)"
   ]
  },
  {
   "cell_type": "markdown",
   "id": "42d6c3d4",
   "metadata": {},
   "source": [
    "## 0. Initial:"
   ]
  },
  {
   "cell_type": "code",
   "execution_count": 83,
   "id": "38c1395f",
   "metadata": {},
   "outputs": [
    {
     "data": {
      "text/plain": [
       "'/home/fyj/Desktop/data/WCET_Tool/WorkSpace/Analysis/optimized.ll'"
      ]
     },
     "execution_count": 83,
     "metadata": {},
     "output_type": "execute_result"
    }
   ],
   "source": [
    "# cp \"$COMP_DIR/optimized.ll\" \"$ANAL_DIR/optimized.ll\"\n",
    "# shutil.copy('WCET.json', out_dir)\n",
    "shutil.copy(os.path.join(COMP_DIR, \"optimized.ll\"), \n",
    "            os.path.join(ANAL_DIR, \"optimized.ll\"))"
   ]
  },
  {
   "cell_type": "markdown",
   "id": "568c8b71",
   "metadata": {},
   "source": [
    "## 1. parampter and instruct config"
   ]
  },
  {
   "cell_type": "code",
   "execution_count": 84,
   "id": "1a3cad69",
   "metadata": {},
   "outputs": [
    {
     "name": "stdout",
     "output_type": "stream",
     "text": [
      "llvmta\t\n",
      " -disable-tail-calls\t\n",
      " -float-abi=hard\t\n",
      " -mattr=-neon,+vfp2\t\n",
      " -O0\t\n",
      " --ta-analysis-entry-point=nx_pthread_create\t\n",
      " --ta-strict=false\t\n",
      " --ta-lpsolver-effort=maximal\t\n",
      " --ta-icache-persistence=conditionalmust\t\n",
      " --ta-dcache-persistence=conditionalmust\t\n",
      " --ta-l2cache-persistence=conditionalmust\t\n",
      " --ta-num-callsite-tokens=3\t\n",
      " --ta-mem-latency=100\t\n",
      " --ta-memory-type=separatecaches\t\n",
      " --ta-muarch-type=outoforder\t\n",
      " --ta-unblock-stores=true\t\n",
      " --ta-dcache-write-back=true\t\n",
      " --ta-dcache-write-allocate=true\t\n",
      " --ta-dcache-assoc=8\t\n",
      " --ta-dcache-nsets=128\t\n",
      " --ta-dcache-linesize=64\t\n",
      " --ta-icache-assoc=8\t\n",
      " --ta-icache-nsets=128\t\n",
      " --ta-icache-linesize=64\t\n",
      " --ta-l2cache-assoc=8\t\n",
      " --ta-l2cache-nsets=1024\t\n",
      " --ta-l2cache-linesize=64\t\n",
      " --ta-array-analysis=True\t\n",
      " --core-info=/home/fyj/Desktop/data/WCET_Tool/WorkSpace/CoreInfo.json\t\n",
      " --core-numbers=1\t\n",
      " --shared-cache-persistence-analysis=false\t\n",
      " -debug-only=\t\n",
      " optimized.ll\n"
     ]
    }
   ],
   "source": [
    "MEM_Latency=100     # 150\n",
    "\n",
    "L1I_Assoc=8\n",
    "L1I_Nsets=128       # 64\n",
    "L1I_Linesize=64\n",
    "\n",
    "L1D_Assoc=8\n",
    "L1D_Nsets=128       # 64\n",
    "L1D_Linesize=64\n",
    "\n",
    "L2C_Assoc=8\n",
    "L2C_Nsets=1024      # 64\n",
    "L2C_Linesize=64\n",
    "\n",
    "# --mem_latency 150\n",
    "LLVMTA_INSTRUCT = [\n",
    "    \"llvmta\",\n",
    "    # (1) basice\n",
    "    \"-disable-tail-calls\", \n",
    "    \"-float-abi=hard\", \n",
    "    # \"-march=armv8-a\",\n",
    "    \"-mattr=-neon,+vfp2\", \n",
    "    \"-O0\",\n",
    "    # \"-O0-disable-O0-optnone\",\n",
    "    # \"-mcpu=arm7tdmi\"\n",
    "\n",
    "    # 一、 LLVMTA General Options:\n",
    "    # \"--ta-ana-type=timing \"                  # 1.***()\n",
    "    #\"--ta-anainfo-policy=precompall \"         # 2.\n",
    "    f\"--ta-analysis-entry-point={ENTRYPOINT}\", # 3.  Run WCET Analysis itself 针对每个入口函数:\n",
    "    #\"--ta-comp-type= \"                        # 4.  会报错放弃  #  icache,dcache,dramrefresh,sharedbusblocking\n",
    "    #\"--ta-compana-joint-ilp=true \"            # 5.  \"--ta-compana-joint-ilp \"\n",
    "    #\"--ta-enable-fixpoint-checks=true \" # 6.\n",
    "    #\"--ta-enable-muarchjoin=true \"      # 7.\n",
    "    #\"--ta-follow-localwc=<value> \"      # 8.  选择要专门跟踪的本地最坏情况\n",
    "    #\"--ta-metric-wcep=<value> \"         # 9.  在最坏情况时间路径上需要最大化的指标\n",
    "    #\"--ta-metric-max=<value> \"          # 10. 除时间外需要最大化的指标\n",
    "    #\"--ta-pathana-type=<value> \"        # 11. 选择路径分析类型，默认为'simpleilp'（简单ILP解决方案）\n",
    "    # \"--ta-pathana-type=graphilp\",\n",
    "    # \"--ta-quiet \"                        # 12. 静默模式(不报告进度，不转储详细分析信息) \n",
    "    #\"--ta-restart-after-external\"       # 13. 外部函数调用后重置微架构状态(默认false)\n",
    "    #\"--ta-start-address-code=<uint>\"    # 14. 二进制文件中代码段的起始地址\n",
    "    \"--ta-strict=false\",                 # 15. 启用严格模式(遇到未知情况时断言，默认true， true可能报错)；\n",
    "    #\"--ta-ucb-clever=true\"              # 16. 启用更精确处理空间局部性的 UCB 模式 (默认false)；\n",
    "    # 1. 求解器相关；\n",
    "    # \"--ta-lpsolver=gurobi\",              # 1.1 路径分析中的LP求解器选择\n",
    "    \"--ta-lpsolver-effort=maximal\",      # 1.2 LP求解器求解精度\n",
    "    # 2. 输出文件：\n",
    "    # --ta-dumpb-vcg-graph                    # 2.1 以VCG格式转储状态图(默认为.dot格式)\n",
    "    # --ta-output-unknown-extfuncs            # 2.2 输出外部函数注解模板文件(默认false)\n",
    "    # --ta-output-unknown-loops               # 2.3 输出循环注解文件(默认false)\n",
    "    # 3. 输入文件：\n",
    "    # --ta-loop-bounds-file=<string>          # 3.1.包含循环界限的文件路径\n",
    "    # --ta-loop-lowerbounds-file=<string>     # 3.2.包含循环下界的文件路径\n",
    "    # --ta-extfunc-annotation-file=<string>   # 3.3.外部函数注解文件路径\n",
    "    # 4. Cache的持久性配置: elementwise; conditionalmust;\n",
    "    \"--ta-icache-persistence=conditionalmust\",\n",
    "    \"--ta-dcache-persistence=conditionalmust\",\n",
    "    \"--ta-l2cache-persistence=conditionalmust\",\n",
    "    # \"--ta-l2cache-persistence=elementwise\",\n",
    "    # 5. 抢占：\n",
    "    # --ta-preemption-dcache-budget=<uint>              # 5.1 抢占可能导致的数据缓存未命中额外数量(默认0)\n",
    "    # --ta-preemption-icache-budget=<uint>              # 5.2 抢占可能导致的指令缓存未命中额外数量(默认0)\n",
    "    # --ta-preemptive                                   # 5.3 被分析程序是否可被抢占(默认false)\n",
    "    # --ta-calculate-slope-interference-curve=<value>   # 5.4. 计算干扰响应曲线的线性近似斜率\n",
    "    # --ta-compositional-base-bound=<value>             # 5.5.启用组合基础界限计算\n",
    "    # --ta-dump-interference-response-curve=<value>     # 5.6.转储干扰响应曲线\n",
    "    # 6. 寄存器地址：\n",
    "    # --ta-initial-link-register=<uint>                 # 6.1 初始链接寄存器值(默认0x00000000)\n",
    "    # --ta-initial-stack-pointer=<uint>                 # 6.2 初始栈指针(默认0x08000000)\n",
    "\n",
    "    # 二、 Context Sensitivity Options:\n",
    "    # --ta-loop-peel=<uint>                             # 1. 指定在跟踪分区期间要区分的初始循环迭代次数\n",
    "    # --ta-num-callee-tokens=<int>                      # 2. 调用时区分上下文的被调用方令牌最大数量\n",
    "    \"--ta-num-callsite-tokens=3\",                       # 3. 调用时区分上下文的调用点令牌最大数量   # 指定调用点令牌的数量。 这影响分析工具如何处理函数调用。\n",
    "    # --ta-num-loop-tokens=<int>                        # 4. 循环相关令牌的最大数量\n",
    "\n",
    "    # 三、 Hardware Platform Configuration Options:\n",
    "    # 1. L2缓存延迟(默认4，传输单个字需要5周期)\n",
    "    f\"--ta-mem-latency={MEM_Latency}\",\n",
    "    # --ta-L2-latency=<uint>\n",
    "    # --ta-bgmem-type=<value>         # “sram，simpledram”\n",
    "    # --ta-dram-refresh-latency=<uint>\n",
    "    # --ta-mem-per-word-latency=<uint>\n",
    "    # 2. 指定内存类型为分离缓存（separate caches）。 这影响分析工具如何模拟内存访问。\n",
    "    \"--ta-memory-type=separatecaches\",    # none，single，separatecaches，priv-instr-spm-data-shared\n",
    "    # 3. 指定微架构类型为顺序执行（inorder/outoforder）。 这影响分析工具如何模拟指令的执行顺序。 \n",
    "    \"--ta-muarch-type=outoforder\",        # fixedlatency，pret，inorder，strictlyinorder，outoforder(inorder/outoforder)\n",
    "    # --ta-num-concurrent-cores=<uint>                      # none，roundRobin\n",
    "    # --ta-stall-on=<value>                                 # dramrefresh，busblocking\n",
    "    # 4. 指定调用点令牌的数量。 这影响分析工具如何处理函数调用。\n",
    "    \"--ta-unblock-stores=true\",\n",
    "\n",
    "    # 四、 Cache Configuration:\n",
    "    \"--ta-dcache-write-back=true\", \n",
    "    \"--ta-dcache-write-allocate=true\", \n",
    "    # f\"--ta-Dcache-latency={args.l1_latency}\",\n",
    "    # --ta-dcache-replpol=<value>     # lru，fifo，alwayshit，alwaysmiss\n",
    "    f\"--ta-dcache-assoc={L1D_Assoc}\",\n",
    "    f\"--ta-dcache-nsets={L1D_Nsets}\",\n",
    "    f\"--ta-dcache-linesize={L1D_Linesize}\",\n",
    "    # f\"--ta-Icache-latency={args.l1_latency}\",\n",
    "    # --ta-icache-replpol=<value>     # lru，fifo，alwayshit，alwaysmiss\n",
    "    f\"--ta-icache-assoc={L1I_Assoc}\",\n",
    "    f\"--ta-icache-nsets={L1I_Nsets}\",\n",
    "    f\"--ta-icache-linesize={L1I_Linesize}\",\n",
    "    # f\"--ta-L2-latency={args.l2_latency}\",\n",
    "    # --ta-l2cache-replpol=<value>    # lru，fifo，alwayshit，alwaysmiss\n",
    "    f\"--ta-l2cache-assoc={L2C_Assoc}\",\n",
    "    f\"--ta-l2cache-nsets={L2C_Nsets}\",\n",
    "    f\"--ta-l2cache-linesize={L2C_Linesize}\",\n",
    "\n",
    "    # 五、Writeback Analysis:\n",
    "    # --ta-assume-clean-cache \n",
    "    # --ta-dfs-persistence\n",
    "    # --ta-dirtiness-analysis\n",
    "    # --ta-statically-refute-writebacks\n",
    "    # --ta-wb-bound=<value>             # none，store，dfs\n",
    "\n",
    "    # 六、Array-aware Cache Analysis:\n",
    "    \"--ta-array-analysis=True\",\n",
    "    # --ta-array-must=<value>           # none,conflict-set-intersect,conflict-set-union,conflict-powerset \n",
    "    # --ta-array-persis=<value>         # none,setwise\n",
    "\n",
    "    # 七、Multi-Core Corunner-sensitive Analysis:\n",
    "    # --ta-access-cycles-joinable-partition-size=<uint>                     - Size of the partitions that are used to decide if two upper bounds on the number of access cycles should be joined. Only has an effect for the arrival curve calculation. By default, all bounds are joined. A value of 1 means only join identical bounds. A value of X means only join bounds that result in the same number if they are both integer divided by X.\n",
    "    # --ta-arrival-curve-calculation-method=<value>                         - Method used for the calculation of the arrival curve values used in co-runner-sensitive analysis. (default 'ilpbased')\n",
    "    #   =programGranularity                                                 -   Based on a minimum period and an upper bound on the number of accesses per program run. (potentially less precise)\n",
    "    #   =ilpbased                                                           -   Based on an ILP implicit path enumeration.\n",
    "    # --ta-arrival-curve-call-site-get-inner-edges-method=<value>           - Which method to use to detect the inner edges of call sites in the calculation of values on an arrival curve. (default 'insideProgramRuns')\n",
    "    #   =all                                                                -   all\n",
    "    #   =insideProgramRuns                                                  -   insideProgramRuns\n",
    "    #   =betweenInOutReachableSimple                                        -   betweenInOutReachableSimple\n",
    "    #   =betweenInOutReachableSimplePlus                                    -   betweenInOutReachableSimplePlus\n",
    "    #   =betweenInOutReachableDetailed                                      -   betweenInOutReachableDetailed\n",
    "    # --ta-arrival-curve-ilp-objective=<value>                              - Use one of two orthogonal objectives. Or use a combined version that is at least as precise as each variant, but potentially more precise than each one. (default 'variant1')\n",
    "    #   =variant1                                                           -   Sum up upper bound on event occurrences for each edge.\n",
    "    #   =variant2                                                           -   Sum up upper bound on event occurrences for each edge that is not first or the last of the path. For every remaining clock cycle of the time window, assume an event.\n",
    "    #   =combined                                                           -   For each ILP valuation, use the minimum of above two variants as objective.\n",
    "    # --ta-arrival-curve-ilp-time-limit=<number>                            - The time limit in seconds for one arrival curve value calculation via ILP. 0.0 is the default value. 0.0 means there is no time limit. Note that we strongly recommend using a time limit for the calculation of arrival curve values as it is significantly more complex than the calculation of per-execution-run event bounds.\n",
    "    # --ta-arrival-curve-loop-get-inner-edges-method=<value>                - Which method to use to detect the inner edges of loops in the calculation of values on an arrival curve. (default 'insideProgramRuns')\n",
    "    #   =all                                                                -   all\n",
    "    #   =insideProgramRuns                                                  -   insideProgramRuns\n",
    "    #   =betweenInOutReachableSimple                                        -   betweenInOutReachableSimple\n",
    "    #   =betweenInOutReachableSimplePlus                                    -   betweenInOutReachableSimplePlus\n",
    "    #   =betweenInOutReachableDetailed                                      -   betweenInOutReachableDetailed\n",
    "    # --ta-blocking-joinable-partition-size=<uint>                          - Size of the partitions that are used to decide if two lower blocking bounds should be joined. Only has an effect in combination with -ta-shared-memory-blocking-type=roundrobin+UBconcurrentaccesscycles. By default, all lower blocking bounds are joined. A value of 1 means only join identical bounds. A value of X means only join bounds that result in the same number if they are both integer divided by X.\n",
    "    # --ta-co-runner-sensitive                                              - Enables the co-runner-sensitive analysis. By default, is is disabled (false).\n",
    "    # --ta-co-runner-sensitive-analysis-fixed-point-type=<value>            - Determines which type of fixed point the iterative co-runner-sensitive analysis pursues (default 'greatest')\n",
    "    #   =least                                                              -   Obtain least fixed point.\n",
    "    #   =greatest                                                           -   Obtain greatest fixed point.\n",
    "    # --ta-co-runner-sensitive-dumped-blocked-cycles-scaled-to-accesses     - Dump the impact of the number of concurrently interfering accesses on the WCET bound instead of the concurrently interfering access cycles (default false).\n",
    "    # --ta-co-runner-sensitive-no-arrival-curve-values                      - Do not perform an arrival curve value calculation in co-runner-sensitive analysis. (default false)\n",
    "    # --ta-co-runner-sensitive-no-wcet-bound                                - Do not perform a WCET bound calculation in co-runner-sensitive analysis. A value true is not allowed if a relative period is specified. (default false)\n",
    "    # --ta-conc-acc-cyc-bounds=<string>                                     - Expects a list of natural numbers with semicolon as delimeter. The number of elements in the list must be a multiple of -ta-num-concurrent-cores and must not be 0.\n",
    "    # --ta-program-period=<uint>                                            - How many cycles at least have to pass between two starts of the program under a periodic scheduling. The default value 0 means that no periodic scheduling is assumed to lower bound the time between two program starts.\n",
    "    # --ta-program-period-rel=<number>                                      - value >= 1 means period is value * wcetAssumingMaxInterference. value < 1 means period is wcetAssumingNoInterference + value * (wcetAssumingMaxInterference - wcetAssumingNoInterference). Negative factor values are OK. If the resulting absolute period would be negative, it is assumed as 0. If the relative period is specified, it overwrites a possible absolute period.\n",
    "    # --ta-program-period-rel-eval-wrt-wcet-ignoring-interference           - If this is true, the relative period is multiplied with a wcet bound ignoring the interference to obtain the absolute period.\n",
    "    # --ta-program-period-subpath-method                                    - Use the subpath method for more precision when taking into account the program period.\n",
    "    # --ta-until-iteration-measurement=<int>                                - Perform dedicated measurements from the start until the end of the iteration for as many iterations as this parameter states. Note that there is also an iteration 0. A negative value disables this dedicated measurements. This parameter is ignored in co-runner-insensitive analysis.\n",
    "\n",
    "    # 八、 TODo:\n",
    "    # --Timing anomaly analysis, state splitting                            - (default 'T')\n",
    "    # --core=<uint>                                                         - The core for the analysis (default '0')\n",
    "    # --parallel-programs                                                   - Parallel Program Analysis\n",
    "    # --ta-multicore-type=<value> # :多核分析;：liangy、none\n",
    "    #\"--ta-multicore-type=none \"\n",
    "    f\"--core-info={COREINFORMATION}\",\n",
    "    f\"--core-numbers=1\",\n",
    "    \"--shared-cache-persistence-analysis=false\",\n",
    "\n",
    "    # (*)\n",
    "    \"-debug-only=\", \n",
    "    # -debug-only=all \n",
    "    # --debug-entry-values \n",
    "    \n",
    "    # (1) input file\n",
    "    \"optimized.ll\",\n",
    "]\n",
    "\n",
    "print('\\t\\n '.join(LLVMTA_INSTRUCT))"
   ]
  },
  {
   "cell_type": "markdown",
   "id": "5f2da6cd",
   "metadata": {},
   "source": [
    "## 2 Output File;"
   ]
  },
  {
   "cell_type": "markdown",
   "id": "a2c020a1",
   "metadata": {},
   "source": [
    "### (a) 外部函数信息(extfuncs)\n",
    "使用llvmta分析外部函数信息。\n",
    "输出外部函数注解模板文件(默认false)。\n",
    "--ta-output-unknown-extfuncs"
   ]
  },
  {
   "cell_type": "code",
   "execution_count": 85,
   "id": "78929a65",
   "metadata": {},
   "outputs": [
    {
     "name": "stdout",
     "output_type": "stream",
     "text": [
      "Timing Analysis for Core: 0\n"
     ]
    }
   ],
   "source": [
    "# llvmta $LLVMTA_INSTRUCT --ta-output-unknown-extfuncs=true optimized.ll > /dev/null 2>&1\n",
    "os.chdir(ANAL_DIR)\n",
    "if os.system(' '.join(LLVMTA_INSTRUCT + [\"--ta-output-unknown-extfuncs=true\", \n",
    "                                         # \"> /dev/null 2>&1\"\n",
    "                                         ])) != 0:\n",
    "    exit(1)"
   ]
  },
  {
   "cell_type": "markdown",
   "id": "62cf9e67",
   "metadata": {},
   "source": [
    "### (b) 循环信息(loops)\n",
    "使用llvmta分析循环信息。\n",
    "输出循环注解文件(默认false)。\n",
    "--ta-output-unknown-loops"
   ]
  },
  {
   "cell_type": "code",
   "execution_count": 86,
   "id": "99ac1e40",
   "metadata": {},
   "outputs": [
    {
     "name": "stdout",
     "output_type": "stream",
     "text": [
      "Timing Analysis for Core: 0\n",
      " -> Finished Preprocessing Phase\n",
      "Timing Analysis for entry point: nx_pthread_create\n"
     ]
    }
   ],
   "source": [
    "# llvmta $LLVMTA_INSTRUCT --ta-output-unknown-loops=true optimized.ll > /dev/null 2>&1\n",
    "os.chdir(ANAL_DIR)\n",
    "if os.system(' '.join(LLVMTA_INSTRUCT + [\"--ta-output-unknown-loops\", \n",
    "                                         # \"> /dev/null 2>&1\"\n",
    "                                         ])) != 0:\n",
    "    exit(1)"
   ]
  },
  {
   "cell_type": "markdown",
   "id": "16f15da1",
   "metadata": {},
   "source": [
    "### (c) vcg"
   ]
  },
  {
   "cell_type": "code",
   "execution_count": null,
   "id": "4d7f45f1",
   "metadata": {},
   "outputs": [],
   "source": [
    "# llvmta $LLVMTA_INSTRUCT --ta-dumpb-vcg-graph optimized.ll > /dev/null 2>&1\n",
    "# if os.system(' '.join(_llvm_comm + [\"--ta-dumpb-vcg-graph\", \"optimized.ll\", \"> /dev/null 2>&1\"])) != 0:\n",
    "#     exit(1)"
   ]
  },
  {
   "cell_type": "markdown",
   "id": "41b88c72",
   "metadata": {},
   "source": [
    "## 3. Loop Bound Update;"
   ]
  },
  {
   "cell_type": "code",
   "execution_count": 17,
   "id": "66fd928e",
   "metadata": {},
   "outputs": [
    {
     "ename": "NameError",
     "evalue": "name 'CODE_DIRS' is not defined",
     "output_type": "error",
     "traceback": [
      "\u001b[0;31m---------------------------------------------------------------------------\u001b[0m",
      "\u001b[0;31mNameError\u001b[0m                                 Traceback (most recent call last)",
      "Cell \u001b[0;32mIn[17], line 11\u001b[0m\n\u001b[1;32m      1\u001b[0m \u001b[38;5;66;03m# cp -f LoopAnnotations.csv ${SOUR_DIR}\u001b[39;00m\n\u001b[1;32m      2\u001b[0m \u001b[38;5;66;03m# pushd \"$SOUR_DIR\" > /dev/null\u001b[39;00m\n\u001b[1;32m      3\u001b[0m \u001b[38;5;66;03m#     cp -f LoopAnnotations.csv LLoopAnnotations.csv\u001b[39;00m\n\u001b[0;32m   (...)\u001b[0m\n\u001b[1;32m      6\u001b[0m \u001b[38;5;66;03m#     mv -f LLoopAnnotations.csv $ANAL_DIR\u001b[39;00m\n\u001b[1;32m      7\u001b[0m \u001b[38;5;66;03m# popd > /dev/null\u001b[39;00m\n\u001b[1;32m      9\u001b[0m shutil\u001b[38;5;241m.\u001b[39mcopy(os\u001b[38;5;241m.\u001b[39mpath\u001b[38;5;241m.\u001b[39mjoin(ANAL_DIR, \u001b[38;5;124m\"\u001b[39m\u001b[38;5;124mLoopAnnotations.csv\u001b[39m\u001b[38;5;124m\"\u001b[39m), \n\u001b[1;32m     10\u001b[0m             \u001b[38;5;66;03m# os.path.join(CODE_DIRS[0], \"LoopAnnotations.csv\"))\u001b[39;00m\n\u001b[0;32m---> 11\u001b[0m             os\u001b[38;5;241m.\u001b[39mpath\u001b[38;5;241m.\u001b[39mjoin(\u001b[43mCODE_DIRS\u001b[49m\u001b[38;5;241m.\u001b[39msplit()[\u001b[38;5;241m0\u001b[39m], \u001b[38;5;124m\"\u001b[39m\u001b[38;5;124mLoopAnnotations.csv\u001b[39m\u001b[38;5;124m\"\u001b[39m))\n\u001b[1;32m     13\u001b[0m os\u001b[38;5;241m.\u001b[39mchdir(CODE_DIRS\u001b[38;5;241m.\u001b[39msplit()[\u001b[38;5;241m0\u001b[39m])\n\u001b[1;32m     14\u001b[0m shutil\u001b[38;5;241m.\u001b[39mcopy(\u001b[38;5;124m\"\u001b[39m\u001b[38;5;124mLoopAnnotations.csv\u001b[39m\u001b[38;5;124m\"\u001b[39m, \u001b[38;5;124m\"\u001b[39m\u001b[38;5;124mLLoopAnnotations.csv\u001b[39m\u001b[38;5;124m\"\u001b[39m)\n",
      "\u001b[0;31mNameError\u001b[0m: name 'CODE_DIRS' is not defined"
     ]
    }
   ],
   "source": [
    "# cp -f LoopAnnotations.csv ${SOUR_DIR}\n",
    "# pushd \"$SOUR_DIR\" > /dev/null\n",
    "#     cp -f LoopAnnotations.csv LLoopAnnotations.csv\n",
    "#     python3 /workspaces/llvmta/testcases/quickGetBound.py -s \"./\"   # > /dev/null 2>&1\n",
    "#     mv -f LoopAnnotations.csv $ANAL_DIR\n",
    "#     mv -f LLoopAnnotations.csv $ANAL_DIR\n",
    "# popd > /dev/null\n",
    "\n",
    "shutil.copy(os.path.join(ANAL_DIR, \"LoopAnnotations.csv\"), \n",
    "            # os.path.join(CODE_DIRS[0], \"LoopAnnotations.csv\"))\n",
    "            os.path.join(CODE_DIRS.split()[0], \"LoopAnnotations.csv\"))\n",
    "\n",
    "os.chdir(CODE_DIRS.split()[0])\n",
    "shutil.copy(\"LoopAnnotations.csv\", \"LLoopAnnotations.csv\")\n",
    "subprocess.run([\"python3\", \n",
    "                \"/home/fyj/Desktop/data/WCET_Tool/quickGetBound.py\", \n",
    "                # \"/workspaces/llvmta/testcases/quickGetBound.py\", \n",
    "                f\"-s./\" ])\n",
    "\n",
    "# p = subprocess.Popen(['python3', 'quickGetBound.py', '-s', f'{str(src_dir)}',], \n",
    "#                         env = os.environ.copy(), cwd = pwd,\n",
    "#                         stdout = subprocess.PIPE,\n",
    "#                         stderr = subprocess.PIPE)\n",
    "# p.wait()\n",
    "\n",
    "# shutil.move(\"LoopAnnotations.csv\", os.path.join(ANAL_DIR, \"LoopAnnotations.csv\"))\n",
    "# shutil.move(\"LLoopAnnotations.csv\", os.path.join(ANAL_DIR, \"LLoopAnnotations.csv\"))\n",
    "\n",
    "# shutil.copy('LoopAnnotations.csv', out_dir / 'LoopAnnotations.csv')\n",
    "# shutil.copy('LoopAnnotations.csv', 'LLoopAnnotations.csv')\n",
    "\n",
    "# with open('LoopAnnotations.csv', 'r') as f:\n",
    "#     data = f.readlines()\n",
    "#     output_data = list()\n",
    "#     for i in range(len(data)):\n",
    "#         if i != 0 and data[i].startswith('#'):\n",
    "#             continue\n",
    "#         output_data.append(data[i])\n",
    "\n",
    "# with open('LoopAnnotations.csv', 'w') as f:\n",
    "#     f.writelines(output_data)\n",
    "\n",
    "# shutil.copy('LoopAnnotations.csv', src_dir / 'LoopAnnotations.csv')\n",
    "# shutil.copy('LoopAnnotations.csv', src_dir / 'LLoopAnnotations.csv')\n",
    "# shutil.copy('LoopAnnotations.csv', out_dir / 'LoopAnnotations.csv')\n",
    "# shutil.copy('LoopAnnotations.csv', out_dir / 'LLoopAnnotations.csv')\n",
    "\n",
    "# with open('LLoopAnnotations.csv', 'r') as f:\n",
    "#   data = f.readlines()"
   ]
  },
  {
   "cell_type": "markdown",
   "id": "01f5d60a",
   "metadata": {},
   "source": [
    "## 4. WCET Analysis"
   ]
  },
  {
   "cell_type": "code",
   "execution_count": 87,
   "id": "6ad236b4",
   "metadata": {},
   "outputs": [
    {
     "name": "stdout",
     "output_type": "stream",
     "text": [
      "Timing Analysis for Core: 0\n",
      "group_bind 1 1\n",
      "group_join 1 1\n",
      "indirect_call_register_@ 1 1\n",
      "nxsched_get_param 1 1\n",
      "nxsched_get_scheduler 1 1\n",
      "nxsched_release_tcb 1 1\n",
      "nxtask_activate 1 1\n",
      "nxtask_joininit 1 1\n",
      "pthread_exit 1 1\n",
      "pthread_setup_scheduler 1 1\n",
      "strlcpy 1 1\n",
      "tls_init_info 1 1\n",
      "up_create_stack 1 1\n",
      "up_use_stack 1 1\n",
      "zalloc 1 1\n",
      " -> Finished Preprocessing Phase\n",
      "Timing Analysis for entry point: nx_pthread_create\n",
      " -> Finished Value & Address Analysis\n",
      " -> Starting Microarchitectural Analysis:\n",
      "N18TimingAnalysisPass30StateExplorationWithJoinDomainINS_23OutOfOrderPipelineStateINS_31JJYSeparateCachesMemoryTopologyIXadL_ZNS_12CacheFactory21makeOptionsInstrCacheEbEEXadL_ZNS3_20makeOptionsDataCacheEbEEXadL_ZNS3_18makeOptionsL2CacheEbEENS_20SingleMemoryTopologyIXadL_ZNS_24makeOptionsBackgroundMemEvEEEEEEEEEE\n",
      " -> Finished Microarchitectural Analysis\n",
      " -> Finished Microarchitectural State Graph Construction\n",
      " -> No valid Gurobi License found!\n",
      " -> Using Solver: LPsolve\n",
      " -> Finished Path Analysis\n",
      "Calculated Timing Bound: 17152\n"
     ]
    }
   ],
   "source": [
    "# bound=$(llvmta $LLVMTA_INSTRUCT \\\n",
    "#     --ta-loop-bounds-file=LoopAnnotations.csv \\\n",
    "#     --ta-loop-lowerbounds-file=LLoopAnnotations.csv \\\n",
    "#     --ta-restart-after-external \\\n",
    "#     --ta-extfunc-annotation-file=ExtFuncAnnotations.csv \\\n",
    "#     -debug-only= \\\n",
    "#     optimized.ll \\\n",
    "# 2>&1 | grep \"Calculated Timing Bound\" | awk '{print $NF}')\n",
    "# echo \"Bound:$bound\"\n",
    "os.chdir(ANAL_DIR)\n",
    "if os.system(' '.join(LLVMTA_INSTRUCT + [\"--ta-loop-bounds-file=LoopAnnotations.csv\",\n",
    "                                         \"--ta-loop-lowerbounds-file=LLoopAnnotations.csv\",\n",
    "                                         \"--ta-restart-after-external\",\n",
    "                                         \"--ta-extfunc-annotation-file=ExtFuncAnnotations.csv\"])) != 0:\n",
    "    exit(1)"
   ]
  },
  {
   "cell_type": "markdown",
   "id": "9eb05aeb",
   "metadata": {},
   "source": [
    "## 5. 输出AEG图"
   ]
  },
  {
   "cell_type": "code",
   "execution_count": null,
   "id": "0ce35b5f",
   "metadata": {},
   "outputs": [],
   "source": [
    "# sed 's/|->/maps to/g' StateGraph_Time.dot > AEG.dot\n",
    "# dot -Tpng AEG.dot -o output.png\n",
    "# dot -Tpng StateGraph_Time.dot -o output.png    # _BUFFX"
   ]
  },
  {
   "cell_type": "markdown",
   "id": "7975ff91",
   "metadata": {},
   "source": [
    "# S3. 总编译\n",
    "\n",
    "编译与执行可执行文件\n",
    "\n",
    "./S3_TCompile.sh $PROJECT \n",
    "./run.sh \\\n",
    "  /workspaces/llvmta/workspace/test \\\n",
    "  /workspaces/llvmta/workspace/test/code \\\n",
    "  /workspaces/llvmta/workspace/test/head"
   ]
  },
  {
   "cell_type": "markdown",
   "id": "f95b2368",
   "metadata": {},
   "source": [
    "# S4. 处理并输出到ll文件"
   ]
  },
  {
   "cell_type": "code",
   "execution_count": null,
   "id": "db36dff1",
   "metadata": {},
   "outputs": [],
   "source": [
    "# while read line; do\n",
    "#     if [[ $line =~ ^[[:space:]]*%0 ]]; then\n",
    "#         echo \"\\t$line\"\n",
    "#         IFS=', '\n",
    "#         read -ra parts <<< \"$line\"\n",
    "#         unset IFS\n",
    "#         for item in \"${parts[@]}\"; do\n",
    "#             echo \"$item\"\n",
    "#             if [[ $item =~ ^!([0-9]+) ]]; then\n",
    "#                 # echo \"数字是：\"${BASH_REMATCH[1]}\n",
    "#                 sed -i '/^'$item'/d' optimized.ll\n",
    "#             fi\n",
    "#         done\n",
    "#     fi\n",
    "# done < optimized.ll\n",
    "# sed -i '/^[[:space:]]*%0/d' optimized.ll"
   ]
  },
  {
   "cell_type": "markdown",
   "id": "bf279fee",
   "metadata": {},
   "source": [
    "# S5. 如果指定 --llvmta-build-mif：\n",
    "\n",
    "Convert the compiled binary to a FPGA compatible .mif file    \n",
    "- 编译成 .s → .o\n",
    "- 链接生成 binary"
   ]
  },
  {
   "cell_type": "code",
   "execution_count": null,
   "id": "225c6dce",
   "metadata": {},
   "outputs": [],
   "source": [
    "# if [[ \"$build_mif\" = true ]]; then\n",
    "#   First ensure that all the required compiled files exist\n",
    "# \tensure_mif_prereqs\n",
    "# \tcp \"$MIF_UTILS/init.o\" \"$MIF_UTILS/hex_to_mif/hex2mif\" \"$MIF_UTILS/minimal.ld\" .\n",
    "# \tarm-none-eabi-as \"${llvmta_entry[0]}/optimized.s\" -o optimized.o\n",
    "# \tarm-none-eabi-ld -Tminimal.ld  init.o optimized.o -o final_binary -static -L/usr/lib/gcc/arm-none-eabi/7.2.0 -lgcc\n",
    "# \tarm-none-eabi-objcopy -O ihex --reverse-bytes=4 final_binary final_binary.hex\n",
    "# \t\"$MIF_UTILS\"/hex_to_mif/hex2mif final_binary\n",
    "# fi"
   ]
  },
  {
   "cell_type": "markdown",
   "id": "24087c52",
   "metadata": {},
   "source": [
    "# S6. 执行结束后cleanup把WORKDIR移动为TESTCASE_DIR/build\n",
    "测试可执行文件(Excution test)"
   ]
  },
  {
   "cell_type": "code",
   "execution_count": null,
   "id": "efa3b7d0",
   "metadata": {},
   "outputs": [],
   "source": [
    "# if [ -f a.out ]; then\n",
    "#     $EXEC ./a.out &>/dev/null\n",
    "#     RETURNVALUE=$(echo $?)\n",
    "#     if [ $RETURNVALUE -eq 0 ]; then\n",
    "#         printf \"passed. \\n\"\n",
    "#         ((PASS++))\n",
    "#     else\n",
    "#         printf \"failed (wrong return value $RETURNVALUE). \\n\"\n",
    "#         ((FAIL_EXEC++))\n",
    "#     fi\n",
    "# else\n",
    "#     printf \"failed (compiled with errors/warnings). \\n\"\n",
    "#     ((FAIL_COMP++))\n",
    "# fi"
   ]
  }
 ],
 "metadata": {
  "kernelspec": {
   "display_name": "Python 3",
   "language": "python",
   "name": "python3"
  },
  "language_info": {
   "codemirror_mode": {
    "name": "ipython",
    "version": 3
   },
   "file_extension": ".py",
   "mimetype": "text/x-python",
   "name": "python",
   "nbconvert_exporter": "python",
   "pygments_lexer": "ipython3",
   "version": "3.10.12"
  }
 },
 "nbformat": 4,
 "nbformat_minor": 5
}
